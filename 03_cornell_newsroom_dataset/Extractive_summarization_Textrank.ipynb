{
 "cells": [
  {
   "cell_type": "markdown",
   "metadata": {},
   "source": [
    "## Loading libraries"
   ]
  },
  {
   "cell_type": "code",
   "execution_count": 1,
   "metadata": {},
   "outputs": [],
   "source": [
    "import numpy as np\n",
    "import pandas as pd\n",
    "import nltk\n",
    "#nltk.download('punkt')\n",
    "import re"
   ]
  },
  {
   "cell_type": "markdown",
   "metadata": {},
   "source": [
    "## Loading data"
   ]
  },
  {
   "cell_type": "code",
   "execution_count": 2,
   "metadata": {},
   "outputs": [],
   "source": [
    "data = pd.read_json(\"data/dev.jsonl/dev-stats.jsonl\", lines=True)"
   ]
  },
  {
   "cell_type": "code",
   "execution_count": 3,
   "metadata": {
    "scrolled": true
   },
   "outputs": [
    {
     "data": {
      "text/html": [
       "<div>\n",
       "<style scoped>\n",
       "    .dataframe tbody tr th:only-of-type {\n",
       "        vertical-align: middle;\n",
       "    }\n",
       "\n",
       "    .dataframe tbody tr th {\n",
       "        vertical-align: top;\n",
       "    }\n",
       "\n",
       "    .dataframe thead th {\n",
       "        text-align: right;\n",
       "    }\n",
       "</style>\n",
       "<table border=\"1\" class=\"dataframe\">\n",
       "  <thead>\n",
       "    <tr style=\"text-align: right;\">\n",
       "      <th></th>\n",
       "      <th>url</th>\n",
       "      <th>archive</th>\n",
       "      <th>title</th>\n",
       "      <th>date</th>\n",
       "      <th>text</th>\n",
       "      <th>summary</th>\n",
       "      <th>compression</th>\n",
       "      <th>coverage</th>\n",
       "      <th>density</th>\n",
       "      <th>compression_bin</th>\n",
       "      <th>coverage_bin</th>\n",
       "      <th>density_bin</th>\n",
       "    </tr>\n",
       "  </thead>\n",
       "  <tbody>\n",
       "    <tr>\n",
       "      <th>0</th>\n",
       "      <td>http://www.foxsports.com/baseball/xchange/team...</td>\n",
       "      <td>http://web.archive.org/web/19980117162148id_/h...</td>\n",
       "      <td>Pro Sports Xchange notes</td>\n",
       "      <td>1970-08-20 06:01:57.162148</td>\n",
       "      <td>So sayeth Padre general manager Kevin Towers.\\...</td>\n",
       "      <td>SAN DIEGO PADRES team notebook</td>\n",
       "      <td>209.000000</td>\n",
       "      <td>0.800000</td>\n",
       "      <td>1.200000</td>\n",
       "      <td>high</td>\n",
       "      <td>medium</td>\n",
       "      <td>abstractive</td>\n",
       "    </tr>\n",
       "    <tr>\n",
       "      <th>1</th>\n",
       "      <td>http://www.nytimes.com/2006/06/05/technology/0...</td>\n",
       "      <td>http://web.archive.org/web/20060620021852id_/h...</td>\n",
       "      <td>India Becoming a Crucial Cog in the Machine at...</td>\n",
       "      <td>1970-08-21 04:23:40.021852</td>\n",
       "      <td>BANGALORE, India, June 4  The world's biggest...</td>\n",
       "      <td>India provides I.B.M. with its fastest-growing...</td>\n",
       "      <td>56.045455</td>\n",
       "      <td>0.954545</td>\n",
       "      <td>16.500000</td>\n",
       "      <td>high</td>\n",
       "      <td>high</td>\n",
       "      <td>extractive</td>\n",
       "    </tr>\n",
       "    <tr>\n",
       "      <th>2</th>\n",
       "      <td>http://www.nydailynews.com/archives/news/1995/...</td>\n",
       "      <td>http://web.archive.org/web/20110210093603id_/h...</td>\n",
       "      <td>NEW YORKERS' ONLY REGRET WAS STAYING HOME</td>\n",
       "      <td>1970-08-21 18:10:10.093603</td>\n",
       "      <td>This story was reported by: NICK CHARLES, AUST...</td>\n",
       "      <td>As many black men marched on Washington yester...</td>\n",
       "      <td>6.152941</td>\n",
       "      <td>0.976471</td>\n",
       "      <td>24.600000</td>\n",
       "      <td>low</td>\n",
       "      <td>high</td>\n",
       "      <td>extractive</td>\n",
       "    </tr>\n",
       "    <tr>\n",
       "      <th>3</th>\n",
       "      <td>http://mashable.com/2010/10/16/twitter-top-top...</td>\n",
       "      <td>http://web.archive.org/web/20120123100903id_/h...</td>\n",
       "      <td>Top 10 Twitter Trends This Week [CHART]</td>\n",
       "      <td>1970-08-21 20:55:23.100903</td>\n",
       "      <td>Remember when everyone on Earth was glued to T...</td>\n",
       "      <td>Check out the chart to find out what the world...</td>\n",
       "      <td>14.631579</td>\n",
       "      <td>0.842105</td>\n",
       "      <td>1.368421</td>\n",
       "      <td>low</td>\n",
       "      <td>medium</td>\n",
       "      <td>abstractive</td>\n",
       "    </tr>\n",
       "    <tr>\n",
       "      <th>4</th>\n",
       "      <td>http://www.reuters.com/article/2011/01/31/us-i...</td>\n",
       "      <td>http://web.archive.org/web/20120321005702id_/h...</td>\n",
       "      <td>Freed American hiker summoned back by Iran court</td>\n",
       "      <td>1970-08-21 20:58:41.005702</td>\n",
       "      <td>TEHRAN | Mon Jan 31, 2011 9:17am EST\\n\\nTEHRAN...</td>\n",
       "      <td>TEHRAN (Reuters) - An American woman who was f...</td>\n",
       "      <td>7.902439</td>\n",
       "      <td>1.000000</td>\n",
       "      <td>39.048780</td>\n",
       "      <td>low</td>\n",
       "      <td>high</td>\n",
       "      <td>extractive</td>\n",
       "    </tr>\n",
       "  </tbody>\n",
       "</table>\n",
       "</div>"
      ],
      "text/plain": [
       "                                                 url  \\\n",
       "0  http://www.foxsports.com/baseball/xchange/team...   \n",
       "1  http://www.nytimes.com/2006/06/05/technology/0...   \n",
       "2  http://www.nydailynews.com/archives/news/1995/...   \n",
       "3  http://mashable.com/2010/10/16/twitter-top-top...   \n",
       "4  http://www.reuters.com/article/2011/01/31/us-i...   \n",
       "\n",
       "                                             archive  \\\n",
       "0  http://web.archive.org/web/19980117162148id_/h...   \n",
       "1  http://web.archive.org/web/20060620021852id_/h...   \n",
       "2  http://web.archive.org/web/20110210093603id_/h...   \n",
       "3  http://web.archive.org/web/20120123100903id_/h...   \n",
       "4  http://web.archive.org/web/20120321005702id_/h...   \n",
       "\n",
       "                                               title  \\\n",
       "0                           Pro Sports Xchange notes   \n",
       "1  India Becoming a Crucial Cog in the Machine at...   \n",
       "2          NEW YORKERS' ONLY REGRET WAS STAYING HOME   \n",
       "3            Top 10 Twitter Trends This Week [CHART]   \n",
       "4   Freed American hiker summoned back by Iran court   \n",
       "\n",
       "                        date  \\\n",
       "0 1970-08-20 06:01:57.162148   \n",
       "1 1970-08-21 04:23:40.021852   \n",
       "2 1970-08-21 18:10:10.093603   \n",
       "3 1970-08-21 20:55:23.100903   \n",
       "4 1970-08-21 20:58:41.005702   \n",
       "\n",
       "                                                text  \\\n",
       "0  So sayeth Padre general manager Kevin Towers.\\...   \n",
       "1  BANGALORE, India, June 4  The world's biggest...   \n",
       "2  This story was reported by: NICK CHARLES, AUST...   \n",
       "3  Remember when everyone on Earth was glued to T...   \n",
       "4  TEHRAN | Mon Jan 31, 2011 9:17am EST\\n\\nTEHRAN...   \n",
       "\n",
       "                                             summary  compression  coverage  \\\n",
       "0                     SAN DIEGO PADRES team notebook   209.000000  0.800000   \n",
       "1  India provides I.B.M. with its fastest-growing...    56.045455  0.954545   \n",
       "2  As many black men marched on Washington yester...     6.152941  0.976471   \n",
       "3  Check out the chart to find out what the world...    14.631579  0.842105   \n",
       "4  TEHRAN (Reuters) - An American woman who was f...     7.902439  1.000000   \n",
       "\n",
       "     density compression_bin coverage_bin  density_bin  \n",
       "0   1.200000            high       medium  abstractive  \n",
       "1  16.500000            high         high   extractive  \n",
       "2  24.600000             low         high   extractive  \n",
       "3   1.368421             low       medium  abstractive  \n",
       "4  39.048780             low         high   extractive  "
      ]
     },
     "execution_count": 3,
     "metadata": {},
     "output_type": "execute_result"
    }
   ],
   "source": [
    "data.head()"
   ]
  },
  {
   "cell_type": "code",
   "execution_count": 4,
   "metadata": {},
   "outputs": [
    {
     "data": {
      "text/plain": [
       "(108837, 12)"
      ]
     },
     "execution_count": 4,
     "metadata": {},
     "output_type": "execute_result"
    }
   ],
   "source": [
    "data.shape"
   ]
  },
  {
   "cell_type": "code",
   "execution_count": 5,
   "metadata": {
    "scrolled": true
   },
   "outputs": [
    {
     "data": {
      "text/plain": [
       "'This story was reported by: NICK CHARLES, AUSTIN EVANS FENNER AND SAMSON MULUGETA It was written by: KAREN HUNTER\\n\\nTuesday, October 17th 1995, 4:20AM\\n\\nAs many black men marched on Washington yesterday, some New Yorkers spoke of their pride in the event and their disappointment in not being there, too.\\n\\n\"I felt like the only black person working,\" said Roderick Vinson, 38, of Harlem. \"That feeling made me sick to my stomach. I couldn\\'t believe I missed one of the important events of my life.\"\\n\\nWinston Ford, 50, had to work, too. He makes his living selling incense and body oils in Brooklyn.\\n\\n\"I didn\\'t have the finances to make the trip,\" he said. \"But my heart and soul is with them in Washington.\"\\n\\nFor HIV-positive Sheldon Julius of Harlem, the Million Man March was a wakeup call. Long an absentee father, he called his 15-year-old son Sunday night and for the first time ever told him that he loved him. \"The calling of the march made me realize my responsibility,\" he said.\\n\\nBut some other black New Yorkers said they had no use for march organizer Louis Farrakhan and made no apologies for missing the rally.\\n\\n\"Farrakhan\\'s wrong,\" said Allen Washington, 61, a retired Triborough Bridge and Tunnel Authority worker. \"Whites and blacks need each other. If we worked together, we\\'d be a great nation.\"\\n\\n\"Louis Farrakhan shouldn\\'t be at the march because of the remarks he has made about Jews and whites,\" agreed Brooklyn construction worker Cyril Peter, 35. \"As long as he\\'s there, there will be a negative effect.\"\\n\\nCharles Williams, 45, an East Elmhurst, Queens, graphics worker, decided that the event was hollow. \"There is no agenda,\" he said. \"It isn\\'t about jobs or housing, it\\'s just about a paper platform.\"\\n\\nStill, drug counselor Jeanette Morgan was bursting with hope and pride as she sipped coffee in a Queens diner and thought about her brothers, sons and grandsons marching in Washington.\\n\\n\"I am so emotional about this day, I can barely talk about it,\" Morgan said. \"When the men return, I hope they go to their brothers at a street corner and offer to help.\"\\n\\nOn one Harlem corner yesterday, college student Mike Carr stood shaking his head as he watched a man idly nurse a 40-ounce beer in a bag.\\n\\n\"It\\'s a shame,\" said Carr. \"These are the brothers who could have used the march the most.\"'"
      ]
     },
     "execution_count": 5,
     "metadata": {},
     "output_type": "execute_result"
    }
   ],
   "source": [
    "data['text'][2]"
   ]
  },
  {
   "cell_type": "code",
   "execution_count": 6,
   "metadata": {},
   "outputs": [
    {
     "data": {
      "text/plain": [
       "'As many black men marched on Washington yesterday, some New Yorkers spoke of their pride in the event and their disappointment in not being there, too. \"I felt like the only black person working,\"said Roderick Vinson, 38, of Harlem. \"That feeling made me sick to my stomach. I couldn\\'t believe I missed one of the important events of my life.\"Winston Ford, 50, had to work, too. He makes his living selling'"
      ]
     },
     "execution_count": 6,
     "metadata": {},
     "output_type": "execute_result"
    }
   ],
   "source": [
    "data['summary'][2]"
   ]
  },
  {
   "cell_type": "code",
   "execution_count": 7,
   "metadata": {},
   "outputs": [],
   "source": [
    "data = data.loc[0:999, :]"
   ]
  },
  {
   "cell_type": "code",
   "execution_count": 8,
   "metadata": {},
   "outputs": [
    {
     "data": {
      "text/plain": [
       "(1000, 12)"
      ]
     },
     "execution_count": 8,
     "metadata": {},
     "output_type": "execute_result"
    }
   ],
   "source": [
    "data.shape"
   ]
  },
  {
   "cell_type": "markdown",
   "metadata": {},
   "source": [
    "## Tokenizing the text"
   ]
  },
  {
   "cell_type": "code",
   "execution_count": 9,
   "metadata": {},
   "outputs": [],
   "source": [
    "from nltk.tokenize import sent_tokenize\n",
    "def split_sentences(text):\n",
    "    sentences = []\n",
    "    sentences.append(sent_tokenize(text))\n",
    "    sentences = [y for x in sentences for y in x]\n",
    "    return sentences"
   ]
  },
  {
   "cell_type": "code",
   "execution_count": 10,
   "metadata": {},
   "outputs": [],
   "source": [
    "data = data.dropna()"
   ]
  },
  {
   "cell_type": "markdown",
   "metadata": {},
   "source": [
    "## Cleaning the text"
   ]
  },
  {
   "cell_type": "code",
   "execution_count": 11,
   "metadata": {},
   "outputs": [],
   "source": [
    "data['text'] = data['text'].str.lower()"
   ]
  },
  {
   "cell_type": "code",
   "execution_count": 12,
   "metadata": {},
   "outputs": [],
   "source": [
    "data['sentences'] = data['text'].map(lambda x: split_sentences(x))"
   ]
  },
  {
   "cell_type": "code",
   "execution_count": 13,
   "metadata": {},
   "outputs": [
    {
     "data": {
      "text/plain": [
       "['this story was reported by: nick charles, austin evans fenner and samson mulugeta it was written by: karen hunter\\n\\ntuesday, october 17th 1995, 4:20am\\n\\nas many black men marched on washington yesterday, some new yorkers spoke of their pride in the event and their disappointment in not being there, too.',\n",
       " '\"i felt like the only black person working,\" said roderick vinson, 38, of harlem.',\n",
       " '\"that feeling made me sick to my stomach.',\n",
       " 'i couldn\\'t believe i missed one of the important events of my life.\"',\n",
       " 'winston ford, 50, had to work, too.',\n",
       " 'he makes his living selling incense and body oils in brooklyn.',\n",
       " '\"i didn\\'t have the finances to make the trip,\" he said.',\n",
       " '\"but my heart and soul is with them in washington.\"',\n",
       " 'for hiv-positive sheldon julius of harlem, the million man march was a wakeup call.',\n",
       " 'long an absentee father, he called his 15-year-old son sunday night and for the first time ever told him that he loved him.',\n",
       " '\"the calling of the march made me realize my responsibility,\" he said.',\n",
       " 'but some other black new yorkers said they had no use for march organizer louis farrakhan and made no apologies for missing the rally.',\n",
       " '\"farrakhan\\'s wrong,\" said allen washington, 61, a retired triborough bridge and tunnel authority worker.',\n",
       " '\"whites and blacks need each other.',\n",
       " 'if we worked together, we\\'d be a great nation.\"',\n",
       " '\"louis farrakhan shouldn\\'t be at the march because of the remarks he has made about jews and whites,\" agreed brooklyn construction worker cyril peter, 35.',\n",
       " '\"as long as he\\'s there, there will be a negative effect.\"',\n",
       " 'charles williams, 45, an east elmhurst, queens, graphics worker, decided that the event was hollow.',\n",
       " '\"there is no agenda,\" he said.',\n",
       " '\"it isn\\'t about jobs or housing, it\\'s just about a paper platform.\"',\n",
       " 'still, drug counselor jeanette morgan was bursting with hope and pride as she sipped coffee in a queens diner and thought about her brothers, sons and grandsons marching in washington.',\n",
       " '\"i am so emotional about this day, i can barely talk about it,\" morgan said.',\n",
       " '\"when the men return, i hope they go to their brothers at a street corner and offer to help.\"',\n",
       " 'on one harlem corner yesterday, college student mike carr stood shaking his head as he watched a man idly nurse a 40-ounce beer in a bag.',\n",
       " '\"it\\'s a shame,\" said carr.',\n",
       " '\"these are the brothers who could have used the march the most.\"']"
      ]
     },
     "execution_count": 13,
     "metadata": {},
     "output_type": "execute_result"
    }
   ],
   "source": [
    "data['sentences'][2]"
   ]
  },
  {
   "cell_type": "code",
   "execution_count": 14,
   "metadata": {},
   "outputs": [],
   "source": [
    "data['clean_sentences'] = data['sentences'].replace(\"[^a-zA-Z]\", \" \")"
   ]
  },
  {
   "cell_type": "code",
   "execution_count": 15,
   "metadata": {},
   "outputs": [
    {
     "data": {
      "text/plain": [
       "['this story was reported by: nick charles, austin evans fenner and samson mulugeta it was written by: karen hunter\\n\\ntuesday, october 17th 1995, 4:20am\\n\\nas many black men marched on washington yesterday, some new yorkers spoke of their pride in the event and their disappointment in not being there, too.',\n",
       " '\"i felt like the only black person working,\" said roderick vinson, 38, of harlem.',\n",
       " '\"that feeling made me sick to my stomach.',\n",
       " 'i couldn\\'t believe i missed one of the important events of my life.\"',\n",
       " 'winston ford, 50, had to work, too.',\n",
       " 'he makes his living selling incense and body oils in brooklyn.',\n",
       " '\"i didn\\'t have the finances to make the trip,\" he said.',\n",
       " '\"but my heart and soul is with them in washington.\"',\n",
       " 'for hiv-positive sheldon julius of harlem, the million man march was a wakeup call.',\n",
       " 'long an absentee father, he called his 15-year-old son sunday night and for the first time ever told him that he loved him.',\n",
       " '\"the calling of the march made me realize my responsibility,\" he said.',\n",
       " 'but some other black new yorkers said they had no use for march organizer louis farrakhan and made no apologies for missing the rally.',\n",
       " '\"farrakhan\\'s wrong,\" said allen washington, 61, a retired triborough bridge and tunnel authority worker.',\n",
       " '\"whites and blacks need each other.',\n",
       " 'if we worked together, we\\'d be a great nation.\"',\n",
       " '\"louis farrakhan shouldn\\'t be at the march because of the remarks he has made about jews and whites,\" agreed brooklyn construction worker cyril peter, 35.',\n",
       " '\"as long as he\\'s there, there will be a negative effect.\"',\n",
       " 'charles williams, 45, an east elmhurst, queens, graphics worker, decided that the event was hollow.',\n",
       " '\"there is no agenda,\" he said.',\n",
       " '\"it isn\\'t about jobs or housing, it\\'s just about a paper platform.\"',\n",
       " 'still, drug counselor jeanette morgan was bursting with hope and pride as she sipped coffee in a queens diner and thought about her brothers, sons and grandsons marching in washington.',\n",
       " '\"i am so emotional about this day, i can barely talk about it,\" morgan said.',\n",
       " '\"when the men return, i hope they go to their brothers at a street corner and offer to help.\"',\n",
       " 'on one harlem corner yesterday, college student mike carr stood shaking his head as he watched a man idly nurse a 40-ounce beer in a bag.',\n",
       " '\"it\\'s a shame,\" said carr.',\n",
       " '\"these are the brothers who could have used the march the most.\"']"
      ]
     },
     "execution_count": 15,
     "metadata": {},
     "output_type": "execute_result"
    }
   ],
   "source": [
    "data['clean_sentences'][2]"
   ]
  },
  {
   "cell_type": "code",
   "execution_count": 16,
   "metadata": {},
   "outputs": [],
   "source": [
    "#!wget http://nlp.stanford.edu/data/glove.6B.zip"
   ]
  },
  {
   "cell_type": "code",
   "execution_count": 17,
   "metadata": {},
   "outputs": [],
   "source": [
    "#!unzip glove*.zip"
   ]
  },
  {
   "cell_type": "markdown",
   "metadata": {},
   "source": [
    "## Vectorizing the text"
   ]
  },
  {
   "cell_type": "code",
   "execution_count": 18,
   "metadata": {},
   "outputs": [],
   "source": [
    "# Extract word vectors\n",
    "word_embeddings = {}\n",
    "f = open('glove.6B/glove.6B.100d.txt', encoding='utf-8')\n",
    "for line in f:\n",
    "    values = line.split()\n",
    "    word = values[0]\n",
    "    coefs = np.asarray(values[1:], dtype='float32')\n",
    "    word_embeddings[word] = coefs\n",
    "f.close()"
   ]
  },
  {
   "cell_type": "code",
   "execution_count": 19,
   "metadata": {},
   "outputs": [
    {
     "data": {
      "text/plain": [
       "400000"
      ]
     },
     "execution_count": 19,
     "metadata": {},
     "output_type": "execute_result"
    }
   ],
   "source": [
    "len(word_embeddings)"
   ]
  },
  {
   "cell_type": "code",
   "execution_count": 20,
   "metadata": {},
   "outputs": [
    {
     "name": "stderr",
     "output_type": "stream",
     "text": [
      "[nltk_data] Downloading package stopwords to\n",
      "[nltk_data]     C:\\Users\\USER\\AppData\\Roaming\\nltk_data...\n",
      "[nltk_data]   Package stopwords is already up-to-date!\n"
     ]
    },
    {
     "data": {
      "text/plain": [
       "True"
      ]
     },
     "execution_count": 20,
     "metadata": {},
     "output_type": "execute_result"
    }
   ],
   "source": [
    "nltk.download('stopwords')"
   ]
  },
  {
   "cell_type": "code",
   "execution_count": 21,
   "metadata": {},
   "outputs": [],
   "source": [
    "from nltk.corpus import stopwords\n",
    "stop_words = stopwords.words('english')"
   ]
  },
  {
   "cell_type": "code",
   "execution_count": 22,
   "metadata": {},
   "outputs": [],
   "source": [
    "def remove_stopwords(sen):\n",
    "    sen_new = \" \".join([i for i in sen if i not in stop_words])\n",
    "    return sen_new"
   ]
  },
  {
   "cell_type": "code",
   "execution_count": 23,
   "metadata": {},
   "outputs": [
    {
     "name": "stderr",
     "output_type": "stream",
     "text": [
      "c:\\users\\user\\appdata\\local\\programs\\python\\python36\\lib\\site-packages\\ipykernel_launcher.py:2: SettingWithCopyWarning: \n",
      "A value is trying to be set on a copy of a slice from a DataFrame\n",
      "\n",
      "See the caveats in the documentation: https://pandas.pydata.org/pandas-docs/stable/user_guide/indexing.html#returning-a-view-versus-a-copy\n",
      "  \n"
     ]
    }
   ],
   "source": [
    "for i in range(1000):\n",
    "    data['clean_sentences'][i] = [remove_stopwords(r.split()) for r in data['clean_sentences'][i]]"
   ]
  },
  {
   "cell_type": "code",
   "execution_count": 24,
   "metadata": {},
   "outputs": [
    {
     "data": {
      "text/plain": [
       "['story reported by: nick charles, austin evans fenner samson mulugeta written by: karen hunter tuesday, october 17th 1995, 4:20am many black men marched washington yesterday, new yorkers spoke pride event disappointment there, too.',\n",
       " '\"i felt like black person working,\" said roderick vinson, 38, harlem.',\n",
       " '\"that feeling made sick stomach.',\n",
       " 'believe missed one important events life.\"',\n",
       " 'winston ford, 50, work, too.',\n",
       " 'makes living selling incense body oils brooklyn.',\n",
       " '\"i finances make trip,\" said.',\n",
       " '\"but heart soul washington.\"',\n",
       " 'hiv-positive sheldon julius harlem, million man march wakeup call.',\n",
       " 'long absentee father, called 15-year-old son sunday night first time ever told loved him.',\n",
       " '\"the calling march made realize responsibility,\" said.',\n",
       " 'black new yorkers said use march organizer louis farrakhan made apologies missing rally.',\n",
       " '\"farrakhan\\'s wrong,\" said allen washington, 61, retired triborough bridge tunnel authority worker.',\n",
       " '\"whites blacks need other.',\n",
       " 'worked together, we\\'d great nation.\"',\n",
       " '\"louis farrakhan march remarks made jews whites,\" agreed brooklyn construction worker cyril peter, 35.',\n",
       " '\"as long he\\'s there, negative effect.\"',\n",
       " 'charles williams, 45, east elmhurst, queens, graphics worker, decided event hollow.',\n",
       " '\"there agenda,\" said.',\n",
       " '\"it jobs housing, paper platform.\"',\n",
       " 'still, drug counselor jeanette morgan bursting hope pride sipped coffee queens diner thought brothers, sons grandsons marching washington.',\n",
       " '\"i emotional day, barely talk it,\" morgan said.',\n",
       " '\"when men return, hope go brothers street corner offer help.\"',\n",
       " 'one harlem corner yesterday, college student mike carr stood shaking head watched man idly nurse 40-ounce beer bag.',\n",
       " '\"it\\'s shame,\" said carr.',\n",
       " '\"these brothers could used march most.\"']"
      ]
     },
     "execution_count": 24,
     "metadata": {},
     "output_type": "execute_result"
    }
   ],
   "source": [
    "data['clean_sentences'][2]"
   ]
  },
  {
   "cell_type": "code",
   "execution_count": 25,
   "metadata": {},
   "outputs": [],
   "source": [
    "def sentence_vectors(text):\n",
    "    sentence_vectors = []\n",
    "    for i in text:\n",
    "        if(len(i) != 0):\n",
    "            v = sum([word_embeddings.get(w, np.zeros((100,))) for w in i.split()])/(len(i.split())+0.001)\n",
    "        else:\n",
    "            v = np.zeros((100,))\n",
    "        sentence_vectors.append(v)\n",
    "    sentence_vectors = pd.Series(sentence_vectors)\n",
    "    return sentence_vectors"
   ]
  },
  {
   "cell_type": "code",
   "execution_count": 26,
   "metadata": {},
   "outputs": [
    {
     "name": "stderr",
     "output_type": "stream",
     "text": [
      "c:\\users\\user\\appdata\\local\\programs\\python\\python36\\lib\\site-packages\\ipykernel_launcher.py:3: SettingWithCopyWarning: \n",
      "A value is trying to be set on a copy of a slice from a DataFrame\n",
      "\n",
      "See the caveats in the documentation: https://pandas.pydata.org/pandas-docs/stable/user_guide/indexing.html#returning-a-view-versus-a-copy\n",
      "  This is separate from the ipykernel package so we can avoid doing imports until\n"
     ]
    }
   ],
   "source": [
    "data['sentence_vectors'] = \"\"\n",
    "for i in range(1000):\n",
    "    data['sentence_vectors'][i] = sentence_vectors(data['clean_sentences'][i])"
   ]
  },
  {
   "cell_type": "code",
   "execution_count": 27,
   "metadata": {},
   "outputs": [
    {
     "data": {
      "text/html": [
       "<div>\n",
       "<style scoped>\n",
       "    .dataframe tbody tr th:only-of-type {\n",
       "        vertical-align: middle;\n",
       "    }\n",
       "\n",
       "    .dataframe tbody tr th {\n",
       "        vertical-align: top;\n",
       "    }\n",
       "\n",
       "    .dataframe thead th {\n",
       "        text-align: right;\n",
       "    }\n",
       "</style>\n",
       "<table border=\"1\" class=\"dataframe\">\n",
       "  <thead>\n",
       "    <tr style=\"text-align: right;\">\n",
       "      <th></th>\n",
       "      <th>url</th>\n",
       "      <th>archive</th>\n",
       "      <th>title</th>\n",
       "      <th>date</th>\n",
       "      <th>text</th>\n",
       "      <th>summary</th>\n",
       "      <th>compression</th>\n",
       "      <th>coverage</th>\n",
       "      <th>density</th>\n",
       "      <th>compression_bin</th>\n",
       "      <th>coverage_bin</th>\n",
       "      <th>density_bin</th>\n",
       "      <th>sentences</th>\n",
       "      <th>clean_sentences</th>\n",
       "      <th>sentence_vectors</th>\n",
       "    </tr>\n",
       "  </thead>\n",
       "  <tbody>\n",
       "    <tr>\n",
       "      <th>0</th>\n",
       "      <td>http://www.foxsports.com/baseball/xchange/team...</td>\n",
       "      <td>http://web.archive.org/web/19980117162148id_/h...</td>\n",
       "      <td>Pro Sports Xchange notes</td>\n",
       "      <td>1970-08-20 06:01:57.162148</td>\n",
       "      <td>so sayeth padre general manager kevin towers.\\...</td>\n",
       "      <td>SAN DIEGO PADRES team notebook</td>\n",
       "      <td>209.000000</td>\n",
       "      <td>0.800000</td>\n",
       "      <td>1.2</td>\n",
       "      <td>high</td>\n",
       "      <td>medium</td>\n",
       "      <td>abstractive</td>\n",
       "      <td>[so sayeth padre general manager kevin towers....</td>\n",
       "      <td>[sayeth padre general manager kevin towers., l...</td>\n",
       "      <td>0     [-0.16768333058102172, 0.017415263457728...</td>\n",
       "    </tr>\n",
       "    <tr>\n",
       "      <th>1</th>\n",
       "      <td>http://www.nytimes.com/2006/06/05/technology/0...</td>\n",
       "      <td>http://web.archive.org/web/20060620021852id_/h...</td>\n",
       "      <td>India Becoming a Crucial Cog in the Machine at...</td>\n",
       "      <td>1970-08-21 04:23:40.021852</td>\n",
       "      <td>bangalore, india, june 4  the world's biggest...</td>\n",
       "      <td>India provides I.B.M. with its fastest-growing...</td>\n",
       "      <td>56.045455</td>\n",
       "      <td>0.954545</td>\n",
       "      <td>16.5</td>\n",
       "      <td>high</td>\n",
       "      <td>high</td>\n",
       "      <td>extractive</td>\n",
       "      <td>[bangalore, india, june 4  the world's bigges...</td>\n",
       "      <td>[bangalore, india, june 4  world's biggest co...</td>\n",
       "      <td>0     [0.0015724692273276374, 0.04247997191411...</td>\n",
       "    </tr>\n",
       "  </tbody>\n",
       "</table>\n",
       "</div>"
      ],
      "text/plain": [
       "                                                 url  \\\n",
       "0  http://www.foxsports.com/baseball/xchange/team...   \n",
       "1  http://www.nytimes.com/2006/06/05/technology/0...   \n",
       "\n",
       "                                             archive  \\\n",
       "0  http://web.archive.org/web/19980117162148id_/h...   \n",
       "1  http://web.archive.org/web/20060620021852id_/h...   \n",
       "\n",
       "                                               title  \\\n",
       "0                           Pro Sports Xchange notes   \n",
       "1  India Becoming a Crucial Cog in the Machine at...   \n",
       "\n",
       "                        date  \\\n",
       "0 1970-08-20 06:01:57.162148   \n",
       "1 1970-08-21 04:23:40.021852   \n",
       "\n",
       "                                                text  \\\n",
       "0  so sayeth padre general manager kevin towers.\\...   \n",
       "1  bangalore, india, june 4  the world's biggest...   \n",
       "\n",
       "                                             summary  compression  coverage  \\\n",
       "0                     SAN DIEGO PADRES team notebook   209.000000  0.800000   \n",
       "1  India provides I.B.M. with its fastest-growing...    56.045455  0.954545   \n",
       "\n",
       "   density compression_bin coverage_bin  density_bin  \\\n",
       "0      1.2            high       medium  abstractive   \n",
       "1     16.5            high         high   extractive   \n",
       "\n",
       "                                           sentences  \\\n",
       "0  [so sayeth padre general manager kevin towers....   \n",
       "1  [bangalore, india, june 4  the world's bigges...   \n",
       "\n",
       "                                     clean_sentences  \\\n",
       "0  [sayeth padre general manager kevin towers., l...   \n",
       "1  [bangalore, india, june 4  world's biggest co...   \n",
       "\n",
       "                                    sentence_vectors  \n",
       "0  0     [-0.16768333058102172, 0.017415263457728...  \n",
       "1  0     [0.0015724692273276374, 0.04247997191411...  "
      ]
     },
     "execution_count": 27,
     "metadata": {},
     "output_type": "execute_result"
    }
   ],
   "source": [
    "data.head(2)"
   ]
  },
  {
   "cell_type": "markdown",
   "metadata": {},
   "source": [
    "## Generating similarity matrix using cosine similarity"
   ]
  },
  {
   "cell_type": "code",
   "execution_count": 28,
   "metadata": {},
   "outputs": [],
   "source": [
    "from sklearn.metrics.pairwise import cosine_similarity"
   ]
  },
  {
   "cell_type": "code",
   "execution_count": 29,
   "metadata": {},
   "outputs": [],
   "source": [
    "def cosine_similarity(sentences, sentence_vectors):\n",
    "    sim_mat = np.zeros([len(sentences), len(sentences)])\n",
    "    for i in range(len(sentences)):\n",
    "        for j in range(len(sentences)):\n",
    "            if i != j:\n",
    "                sim_mat[i][j] = cosine_similarity(sentence_vectors[i].reshape(1,100), sentence_vectors[j].reshape(1,100))[0,0]\n",
    "    return sim_mat"
   ]
  },
  {
   "cell_type": "code",
   "execution_count": 30,
   "metadata": {},
   "outputs": [
    {
     "name": "stderr",
     "output_type": "stream",
     "text": [
      "c:\\users\\user\\appdata\\local\\programs\\python\\python36\\lib\\site-packages\\ipykernel_launcher.py:3: SettingWithCopyWarning: \n",
      "A value is trying to be set on a copy of a slice from a DataFrame\n",
      "\n",
      "See the caveats in the documentation: https://pandas.pydata.org/pandas-docs/stable/user_guide/indexing.html#returning-a-view-versus-a-copy\n",
      "  This is separate from the ipykernel package so we can avoid doing imports until\n"
     ]
    }
   ],
   "source": [
    "data['sim_mat'] = \"\"\n",
    "for i in range(1000):\n",
    "    data['sim_mat'][i] = cosine_similarity(data['sentences'][i], data['sentence_vectors'][i])"
   ]
  },
  {
   "cell_type": "markdown",
   "metadata": {},
   "source": [
    "## Converting similarity matrix to network graphs"
   ]
  },
  {
   "cell_type": "code",
   "execution_count": 31,
   "metadata": {},
   "outputs": [],
   "source": [
    "import networkx as nx\n",
    "data['nx_graph'] = data['sim_mat'].map(lambda x: nx.from_numpy_array(x))\n",
    "data['scores'] = data['nx_graph'].map(lambda x: nx.pagerank(x))"
   ]
  },
  {
   "cell_type": "code",
   "execution_count": 32,
   "metadata": {},
   "outputs": [
    {
     "data": {
      "text/html": [
       "<div>\n",
       "<style scoped>\n",
       "    .dataframe tbody tr th:only-of-type {\n",
       "        vertical-align: middle;\n",
       "    }\n",
       "\n",
       "    .dataframe tbody tr th {\n",
       "        vertical-align: top;\n",
       "    }\n",
       "\n",
       "    .dataframe thead th {\n",
       "        text-align: right;\n",
       "    }\n",
       "</style>\n",
       "<table border=\"1\" class=\"dataframe\">\n",
       "  <thead>\n",
       "    <tr style=\"text-align: right;\">\n",
       "      <th></th>\n",
       "      <th>url</th>\n",
       "      <th>archive</th>\n",
       "      <th>title</th>\n",
       "      <th>date</th>\n",
       "      <th>text</th>\n",
       "      <th>summary</th>\n",
       "      <th>compression</th>\n",
       "      <th>coverage</th>\n",
       "      <th>density</th>\n",
       "      <th>compression_bin</th>\n",
       "      <th>coverage_bin</th>\n",
       "      <th>density_bin</th>\n",
       "      <th>sentences</th>\n",
       "      <th>clean_sentences</th>\n",
       "      <th>sentence_vectors</th>\n",
       "      <th>sim_mat</th>\n",
       "      <th>nx_graph</th>\n",
       "      <th>scores</th>\n",
       "    </tr>\n",
       "  </thead>\n",
       "  <tbody>\n",
       "    <tr>\n",
       "      <th>0</th>\n",
       "      <td>http://www.foxsports.com/baseball/xchange/team...</td>\n",
       "      <td>http://web.archive.org/web/19980117162148id_/h...</td>\n",
       "      <td>Pro Sports Xchange notes</td>\n",
       "      <td>1970-08-20 06:01:57.162148</td>\n",
       "      <td>so sayeth padre general manager kevin towers.\\...</td>\n",
       "      <td>SAN DIEGO PADRES team notebook</td>\n",
       "      <td>209.000000</td>\n",
       "      <td>0.800000</td>\n",
       "      <td>1.200000</td>\n",
       "      <td>high</td>\n",
       "      <td>medium</td>\n",
       "      <td>abstractive</td>\n",
       "      <td>[so sayeth padre general manager kevin towers....</td>\n",
       "      <td>[sayeth padre general manager kevin towers., l...</td>\n",
       "      <td>0     [-0.16768333058102172, 0.017415263457728...</td>\n",
       "      <td>[[0.0, 0.0, 0.0, 0.0, 0.0, 0.0, 0.0, 0.0, 0.0,...</td>\n",
       "      <td>(0, 1, 2, 3, 4, 5, 6, 7, 8, 9, 10, 11, 12, 13,...</td>\n",
       "      <td>{0: 0.0185185185185185, 1: 0.0185185185185185,...</td>\n",
       "    </tr>\n",
       "    <tr>\n",
       "      <th>1</th>\n",
       "      <td>http://www.nytimes.com/2006/06/05/technology/0...</td>\n",
       "      <td>http://web.archive.org/web/20060620021852id_/h...</td>\n",
       "      <td>India Becoming a Crucial Cog in the Machine at...</td>\n",
       "      <td>1970-08-21 04:23:40.021852</td>\n",
       "      <td>bangalore, india, june 4  the world's biggest...</td>\n",
       "      <td>India provides I.B.M. with its fastest-growing...</td>\n",
       "      <td>56.045455</td>\n",
       "      <td>0.954545</td>\n",
       "      <td>16.500000</td>\n",
       "      <td>high</td>\n",
       "      <td>high</td>\n",
       "      <td>extractive</td>\n",
       "      <td>[bangalore, india, june 4  the world's bigges...</td>\n",
       "      <td>[bangalore, india, june 4  world's biggest co...</td>\n",
       "      <td>0     [0.0015724692273276374, 0.04247997191411...</td>\n",
       "      <td>[[0.0, 0.0, 0.0, 0.0, 0.0, 0.0, 0.0, 0.0, 0.0,...</td>\n",
       "      <td>(0, 1, 2, 3, 4, 5, 6, 7, 8, 9, 10, 11, 12, 13,...</td>\n",
       "      <td>{0: 0.01639344262295083, 1: 0.0163934426229508...</td>\n",
       "    </tr>\n",
       "    <tr>\n",
       "      <th>2</th>\n",
       "      <td>http://www.nydailynews.com/archives/news/1995/...</td>\n",
       "      <td>http://web.archive.org/web/20110210093603id_/h...</td>\n",
       "      <td>NEW YORKERS' ONLY REGRET WAS STAYING HOME</td>\n",
       "      <td>1970-08-21 18:10:10.093603</td>\n",
       "      <td>this story was reported by: nick charles, aust...</td>\n",
       "      <td>As many black men marched on Washington yester...</td>\n",
       "      <td>6.152941</td>\n",
       "      <td>0.976471</td>\n",
       "      <td>24.600000</td>\n",
       "      <td>low</td>\n",
       "      <td>high</td>\n",
       "      <td>extractive</td>\n",
       "      <td>[this story was reported by: nick charles, aus...</td>\n",
       "      <td>[story reported by: nick charles, austin evans...</td>\n",
       "      <td>0     [0.028961850342933044, 0.069482825481536...</td>\n",
       "      <td>[[0.0, 0.0, 0.0, 0.0, 0.0, 0.0, 0.0, 0.0, 0.0,...</td>\n",
       "      <td>(0, 1, 2, 3, 4, 5, 6, 7, 8, 9, 10, 11, 12, 13,...</td>\n",
       "      <td>{0: 0.03846153846153845, 1: 0.0384615384615384...</td>\n",
       "    </tr>\n",
       "    <tr>\n",
       "      <th>3</th>\n",
       "      <td>http://mashable.com/2010/10/16/twitter-top-top...</td>\n",
       "      <td>http://web.archive.org/web/20120123100903id_/h...</td>\n",
       "      <td>Top 10 Twitter Trends This Week [CHART]</td>\n",
       "      <td>1970-08-21 20:55:23.100903</td>\n",
       "      <td>remember when everyone on earth was glued to t...</td>\n",
       "      <td>Check out the chart to find out what the world...</td>\n",
       "      <td>14.631579</td>\n",
       "      <td>0.842105</td>\n",
       "      <td>1.368421</td>\n",
       "      <td>low</td>\n",
       "      <td>medium</td>\n",
       "      <td>abstractive</td>\n",
       "      <td>[remember when everyone on earth was glued to ...</td>\n",
       "      <td>[remember everyone earth glued twitter (and tv...</td>\n",
       "      <td>0     [-0.04966387454308343, 0.228652271354401...</td>\n",
       "      <td>[[0.0, 0.0, 0.0, 0.0, 0.0, 0.0, 0.0, 0.0, 0.0,...</td>\n",
       "      <td>(0, 1, 2, 3, 4, 5, 6, 7, 8, 9, 10, 11)</td>\n",
       "      <td>{0: 0.08333333333333333, 1: 0.0833333333333333...</td>\n",
       "    </tr>\n",
       "    <tr>\n",
       "      <th>4</th>\n",
       "      <td>http://www.reuters.com/article/2011/01/31/us-i...</td>\n",
       "      <td>http://web.archive.org/web/20120321005702id_/h...</td>\n",
       "      <td>Freed American hiker summoned back by Iran court</td>\n",
       "      <td>1970-08-21 20:58:41.005702</td>\n",
       "      <td>tehran | mon jan 31, 2011 9:17am est\\n\\ntehran...</td>\n",
       "      <td>TEHRAN (Reuters) - An American woman who was f...</td>\n",
       "      <td>7.902439</td>\n",
       "      <td>1.000000</td>\n",
       "      <td>39.048780</td>\n",
       "      <td>low</td>\n",
       "      <td>high</td>\n",
       "      <td>extractive</td>\n",
       "      <td>[tehran | mon jan 31, 2011 9:17am est\\n\\ntehra...</td>\n",
       "      <td>[tehran | mon jan 31, 2011 9:17am est tehran (...</td>\n",
       "      <td>0     [0.07381196580201665, -0.045377295994149...</td>\n",
       "      <td>[[0.0, 0.0, 0.0, 0.0, 0.0, 0.0, 0.0, 0.0, 0.0,...</td>\n",
       "      <td>(0, 1, 2, 3, 4, 5, 6, 7, 8, 9, 10, 11)</td>\n",
       "      <td>{0: 0.08333333333333333, 1: 0.0833333333333333...</td>\n",
       "    </tr>\n",
       "  </tbody>\n",
       "</table>\n",
       "</div>"
      ],
      "text/plain": [
       "                                                 url  \\\n",
       "0  http://www.foxsports.com/baseball/xchange/team...   \n",
       "1  http://www.nytimes.com/2006/06/05/technology/0...   \n",
       "2  http://www.nydailynews.com/archives/news/1995/...   \n",
       "3  http://mashable.com/2010/10/16/twitter-top-top...   \n",
       "4  http://www.reuters.com/article/2011/01/31/us-i...   \n",
       "\n",
       "                                             archive  \\\n",
       "0  http://web.archive.org/web/19980117162148id_/h...   \n",
       "1  http://web.archive.org/web/20060620021852id_/h...   \n",
       "2  http://web.archive.org/web/20110210093603id_/h...   \n",
       "3  http://web.archive.org/web/20120123100903id_/h...   \n",
       "4  http://web.archive.org/web/20120321005702id_/h...   \n",
       "\n",
       "                                               title  \\\n",
       "0                           Pro Sports Xchange notes   \n",
       "1  India Becoming a Crucial Cog in the Machine at...   \n",
       "2          NEW YORKERS' ONLY REGRET WAS STAYING HOME   \n",
       "3            Top 10 Twitter Trends This Week [CHART]   \n",
       "4   Freed American hiker summoned back by Iran court   \n",
       "\n",
       "                        date  \\\n",
       "0 1970-08-20 06:01:57.162148   \n",
       "1 1970-08-21 04:23:40.021852   \n",
       "2 1970-08-21 18:10:10.093603   \n",
       "3 1970-08-21 20:55:23.100903   \n",
       "4 1970-08-21 20:58:41.005702   \n",
       "\n",
       "                                                text  \\\n",
       "0  so sayeth padre general manager kevin towers.\\...   \n",
       "1  bangalore, india, june 4  the world's biggest...   \n",
       "2  this story was reported by: nick charles, aust...   \n",
       "3  remember when everyone on earth was glued to t...   \n",
       "4  tehran | mon jan 31, 2011 9:17am est\\n\\ntehran...   \n",
       "\n",
       "                                             summary  compression  coverage  \\\n",
       "0                     SAN DIEGO PADRES team notebook   209.000000  0.800000   \n",
       "1  India provides I.B.M. with its fastest-growing...    56.045455  0.954545   \n",
       "2  As many black men marched on Washington yester...     6.152941  0.976471   \n",
       "3  Check out the chart to find out what the world...    14.631579  0.842105   \n",
       "4  TEHRAN (Reuters) - An American woman who was f...     7.902439  1.000000   \n",
       "\n",
       "     density compression_bin coverage_bin  density_bin  \\\n",
       "0   1.200000            high       medium  abstractive   \n",
       "1  16.500000            high         high   extractive   \n",
       "2  24.600000             low         high   extractive   \n",
       "3   1.368421             low       medium  abstractive   \n",
       "4  39.048780             low         high   extractive   \n",
       "\n",
       "                                           sentences  \\\n",
       "0  [so sayeth padre general manager kevin towers....   \n",
       "1  [bangalore, india, june 4  the world's bigges...   \n",
       "2  [this story was reported by: nick charles, aus...   \n",
       "3  [remember when everyone on earth was glued to ...   \n",
       "4  [tehran | mon jan 31, 2011 9:17am est\\n\\ntehra...   \n",
       "\n",
       "                                     clean_sentences  \\\n",
       "0  [sayeth padre general manager kevin towers., l...   \n",
       "1  [bangalore, india, june 4  world's biggest co...   \n",
       "2  [story reported by: nick charles, austin evans...   \n",
       "3  [remember everyone earth glued twitter (and tv...   \n",
       "4  [tehran | mon jan 31, 2011 9:17am est tehran (...   \n",
       "\n",
       "                                    sentence_vectors  \\\n",
       "0  0     [-0.16768333058102172, 0.017415263457728...   \n",
       "1  0     [0.0015724692273276374, 0.04247997191411...   \n",
       "2  0     [0.028961850342933044, 0.069482825481536...   \n",
       "3  0     [-0.04966387454308343, 0.228652271354401...   \n",
       "4  0     [0.07381196580201665, -0.045377295994149...   \n",
       "\n",
       "                                             sim_mat  \\\n",
       "0  [[0.0, 0.0, 0.0, 0.0, 0.0, 0.0, 0.0, 0.0, 0.0,...   \n",
       "1  [[0.0, 0.0, 0.0, 0.0, 0.0, 0.0, 0.0, 0.0, 0.0,...   \n",
       "2  [[0.0, 0.0, 0.0, 0.0, 0.0, 0.0, 0.0, 0.0, 0.0,...   \n",
       "3  [[0.0, 0.0, 0.0, 0.0, 0.0, 0.0, 0.0, 0.0, 0.0,...   \n",
       "4  [[0.0, 0.0, 0.0, 0.0, 0.0, 0.0, 0.0, 0.0, 0.0,...   \n",
       "\n",
       "                                            nx_graph  \\\n",
       "0  (0, 1, 2, 3, 4, 5, 6, 7, 8, 9, 10, 11, 12, 13,...   \n",
       "1  (0, 1, 2, 3, 4, 5, 6, 7, 8, 9, 10, 11, 12, 13,...   \n",
       "2  (0, 1, 2, 3, 4, 5, 6, 7, 8, 9, 10, 11, 12, 13,...   \n",
       "3             (0, 1, 2, 3, 4, 5, 6, 7, 8, 9, 10, 11)   \n",
       "4             (0, 1, 2, 3, 4, 5, 6, 7, 8, 9, 10, 11)   \n",
       "\n",
       "                                              scores  \n",
       "0  {0: 0.0185185185185185, 1: 0.0185185185185185,...  \n",
       "1  {0: 0.01639344262295083, 1: 0.0163934426229508...  \n",
       "2  {0: 0.03846153846153845, 1: 0.0384615384615384...  \n",
       "3  {0: 0.08333333333333333, 1: 0.0833333333333333...  \n",
       "4  {0: 0.08333333333333333, 1: 0.0833333333333333...  "
      ]
     },
     "execution_count": 32,
     "metadata": {},
     "output_type": "execute_result"
    }
   ],
   "source": [
    "data.head()"
   ]
  },
  {
   "cell_type": "markdown",
   "metadata": {},
   "source": [
    "## Ranking the sentences"
   ]
  },
  {
   "cell_type": "code",
   "execution_count": 33,
   "metadata": {},
   "outputs": [
    {
     "name": "stderr",
     "output_type": "stream",
     "text": [
      "c:\\users\\user\\appdata\\local\\programs\\python\\python36\\lib\\site-packages\\ipykernel_launcher.py:3: SettingWithCopyWarning: \n",
      "A value is trying to be set on a copy of a slice from a DataFrame\n",
      "\n",
      "See the caveats in the documentation: https://pandas.pydata.org/pandas-docs/stable/user_guide/indexing.html#returning-a-view-versus-a-copy\n",
      "  This is separate from the ipykernel package so we can avoid doing imports until\n"
     ]
    }
   ],
   "source": [
    "data['ranked_sentences'] = \"\"\n",
    "for j in range(1000):\n",
    "    data['ranked_sentences'][j] = sorted(((data['scores'][j][i],s) for i,s in enumerate(data['sentences'][j])), reverse=True)"
   ]
  },
  {
   "cell_type": "code",
   "execution_count": 34,
   "metadata": {},
   "outputs": [
    {
     "data": {
      "text/html": [
       "<div>\n",
       "<style scoped>\n",
       "    .dataframe tbody tr th:only-of-type {\n",
       "        vertical-align: middle;\n",
       "    }\n",
       "\n",
       "    .dataframe tbody tr th {\n",
       "        vertical-align: top;\n",
       "    }\n",
       "\n",
       "    .dataframe thead th {\n",
       "        text-align: right;\n",
       "    }\n",
       "</style>\n",
       "<table border=\"1\" class=\"dataframe\">\n",
       "  <thead>\n",
       "    <tr style=\"text-align: right;\">\n",
       "      <th></th>\n",
       "      <th>url</th>\n",
       "      <th>archive</th>\n",
       "      <th>title</th>\n",
       "      <th>date</th>\n",
       "      <th>text</th>\n",
       "      <th>summary</th>\n",
       "      <th>compression</th>\n",
       "      <th>coverage</th>\n",
       "      <th>density</th>\n",
       "      <th>compression_bin</th>\n",
       "      <th>coverage_bin</th>\n",
       "      <th>density_bin</th>\n",
       "      <th>sentences</th>\n",
       "      <th>clean_sentences</th>\n",
       "      <th>sentence_vectors</th>\n",
       "      <th>sim_mat</th>\n",
       "      <th>nx_graph</th>\n",
       "      <th>scores</th>\n",
       "      <th>ranked_sentences</th>\n",
       "    </tr>\n",
       "  </thead>\n",
       "  <tbody>\n",
       "    <tr>\n",
       "      <th>0</th>\n",
       "      <td>http://www.foxsports.com/baseball/xchange/team...</td>\n",
       "      <td>http://web.archive.org/web/19980117162148id_/h...</td>\n",
       "      <td>Pro Sports Xchange notes</td>\n",
       "      <td>1970-08-20 06:01:57.162148</td>\n",
       "      <td>so sayeth padre general manager kevin towers.\\...</td>\n",
       "      <td>SAN DIEGO PADRES team notebook</td>\n",
       "      <td>209.000000</td>\n",
       "      <td>0.800000</td>\n",
       "      <td>1.2</td>\n",
       "      <td>high</td>\n",
       "      <td>medium</td>\n",
       "      <td>abstractive</td>\n",
       "      <td>[so sayeth padre general manager kevin towers....</td>\n",
       "      <td>[sayeth padre general manager kevin towers., l...</td>\n",
       "      <td>0     [-0.16768333058102172, 0.017415263457728...</td>\n",
       "      <td>[[0.0, 0.0, 0.0, 0.0, 0.0, 0.0, 0.0, 0.0, 0.0,...</td>\n",
       "      <td>(0, 1, 2, 3, 4, 5, 6, 7, 8, 9, 10, 11, 12, 13,...</td>\n",
       "      <td>{0: 0.0185185185185185, 1: 0.0185185185185185,...</td>\n",
       "      <td>[(0.0185185185185185, williams, who signed a m...</td>\n",
       "    </tr>\n",
       "    <tr>\n",
       "      <th>1</th>\n",
       "      <td>http://www.nytimes.com/2006/06/05/technology/0...</td>\n",
       "      <td>http://web.archive.org/web/20060620021852id_/h...</td>\n",
       "      <td>India Becoming a Crucial Cog in the Machine at...</td>\n",
       "      <td>1970-08-21 04:23:40.021852</td>\n",
       "      <td>bangalore, india, june 4  the world's biggest...</td>\n",
       "      <td>India provides I.B.M. with its fastest-growing...</td>\n",
       "      <td>56.045455</td>\n",
       "      <td>0.954545</td>\n",
       "      <td>16.5</td>\n",
       "      <td>high</td>\n",
       "      <td>high</td>\n",
       "      <td>extractive</td>\n",
       "      <td>[bangalore, india, june 4  the world's bigges...</td>\n",
       "      <td>[bangalore, india, june 4  world's biggest co...</td>\n",
       "      <td>0     [0.0015724692273276374, 0.04247997191411...</td>\n",
       "      <td>[[0.0, 0.0, 0.0, 0.0, 0.0, 0.0, 0.0, 0.0, 0.0,...</td>\n",
       "      <td>(0, 1, 2, 3, 4, 5, 6, 7, 8, 9, 10, 11, 12, 13,...</td>\n",
       "      <td>{0: 0.01639344262295083, 1: 0.0163934426229508...</td>\n",
       "      <td>[(0.01639344262295083, they are an acknowledgm...</td>\n",
       "    </tr>\n",
       "  </tbody>\n",
       "</table>\n",
       "</div>"
      ],
      "text/plain": [
       "                                                 url  \\\n",
       "0  http://www.foxsports.com/baseball/xchange/team...   \n",
       "1  http://www.nytimes.com/2006/06/05/technology/0...   \n",
       "\n",
       "                                             archive  \\\n",
       "0  http://web.archive.org/web/19980117162148id_/h...   \n",
       "1  http://web.archive.org/web/20060620021852id_/h...   \n",
       "\n",
       "                                               title  \\\n",
       "0                           Pro Sports Xchange notes   \n",
       "1  India Becoming a Crucial Cog in the Machine at...   \n",
       "\n",
       "                        date  \\\n",
       "0 1970-08-20 06:01:57.162148   \n",
       "1 1970-08-21 04:23:40.021852   \n",
       "\n",
       "                                                text  \\\n",
       "0  so sayeth padre general manager kevin towers.\\...   \n",
       "1  bangalore, india, june 4  the world's biggest...   \n",
       "\n",
       "                                             summary  compression  coverage  \\\n",
       "0                     SAN DIEGO PADRES team notebook   209.000000  0.800000   \n",
       "1  India provides I.B.M. with its fastest-growing...    56.045455  0.954545   \n",
       "\n",
       "   density compression_bin coverage_bin  density_bin  \\\n",
       "0      1.2            high       medium  abstractive   \n",
       "1     16.5            high         high   extractive   \n",
       "\n",
       "                                           sentences  \\\n",
       "0  [so sayeth padre general manager kevin towers....   \n",
       "1  [bangalore, india, june 4  the world's bigges...   \n",
       "\n",
       "                                     clean_sentences  \\\n",
       "0  [sayeth padre general manager kevin towers., l...   \n",
       "1  [bangalore, india, june 4  world's biggest co...   \n",
       "\n",
       "                                    sentence_vectors  \\\n",
       "0  0     [-0.16768333058102172, 0.017415263457728...   \n",
       "1  0     [0.0015724692273276374, 0.04247997191411...   \n",
       "\n",
       "                                             sim_mat  \\\n",
       "0  [[0.0, 0.0, 0.0, 0.0, 0.0, 0.0, 0.0, 0.0, 0.0,...   \n",
       "1  [[0.0, 0.0, 0.0, 0.0, 0.0, 0.0, 0.0, 0.0, 0.0,...   \n",
       "\n",
       "                                            nx_graph  \\\n",
       "0  (0, 1, 2, 3, 4, 5, 6, 7, 8, 9, 10, 11, 12, 13,...   \n",
       "1  (0, 1, 2, 3, 4, 5, 6, 7, 8, 9, 10, 11, 12, 13,...   \n",
       "\n",
       "                                              scores  \\\n",
       "0  {0: 0.0185185185185185, 1: 0.0185185185185185,...   \n",
       "1  {0: 0.01639344262295083, 1: 0.0163934426229508...   \n",
       "\n",
       "                                    ranked_sentences  \n",
       "0  [(0.0185185185185185, williams, who signed a m...  \n",
       "1  [(0.01639344262295083, they are an acknowledgm...  "
      ]
     },
     "execution_count": 34,
     "metadata": {},
     "output_type": "execute_result"
    }
   ],
   "source": [
    "data.head(2)"
   ]
  },
  {
   "cell_type": "code",
   "execution_count": 35,
   "metadata": {},
   "outputs": [
    {
     "data": {
      "text/plain": [
       "(1000, 19)"
      ]
     },
     "execution_count": 35,
     "metadata": {},
     "output_type": "execute_result"
    }
   ],
   "source": [
    "data.shape"
   ]
  },
  {
   "cell_type": "markdown",
   "metadata": {},
   "source": [
    "## Generating the summary"
   ]
  },
  {
   "cell_type": "code",
   "execution_count": 59,
   "metadata": {},
   "outputs": [
    {
     "name": "stderr",
     "output_type": "stream",
     "text": [
      "c:\\users\\user\\appdata\\local\\programs\\python\\python36\\lib\\site-packages\\ipykernel_launcher.py:3: SettingWithCopyWarning: \n",
      "A value is trying to be set on a copy of a slice from a DataFrame\n",
      "\n",
      "See the caveats in the documentation: https://pandas.pydata.org/pandas-docs/stable/user_guide/indexing.html#returning-a-view-versus-a-copy\n",
      "  This is separate from the ipykernel package so we can avoid doing imports until\n",
      "c:\\users\\user\\appdata\\local\\programs\\python\\python36\\lib\\site-packages\\ipykernel_launcher.py:4: SettingWithCopyWarning: \n",
      "A value is trying to be set on a copy of a slice from a DataFrame\n",
      "\n",
      "See the caveats in the documentation: https://pandas.pydata.org/pandas-docs/stable/user_guide/indexing.html#returning-a-view-versus-a-copy\n",
      "  after removing the cwd from sys.path.\n",
      "c:\\users\\user\\appdata\\local\\programs\\python\\python36\\lib\\site-packages\\ipykernel_launcher.py:5: SettingWithCopyWarning: \n",
      "A value is trying to be set on a copy of a slice from a DataFrame\n",
      "\n",
      "See the caveats in the documentation: https://pandas.pydata.org/pandas-docs/stable/user_guide/indexing.html#returning-a-view-versus-a-copy\n",
      "  \"\"\"\n"
     ]
    }
   ],
   "source": [
    "data['extracted_summary'] = \"\"\n",
    "for i in range(1000):\n",
    "    data['extracted_summary'][i] = data['ranked_sentences'][i][0:3]\n",
    "    data['extracted_summary'][i] = [x[1] for x in data['extracted_summary'][i]]\n",
    "    data['extracted_summary'][i] = \"\".join(data['extracted_summary'][i])"
   ]
  },
  {
   "cell_type": "markdown",
   "metadata": {},
   "source": [
    "## Calculating the Rouge Score"
   ]
  },
  {
   "cell_type": "code",
   "execution_count": 62,
   "metadata": {},
   "outputs": [
    {
     "name": "stdout",
     "output_type": "stream",
     "text": [
      "Collecting rouge\n",
      "  Downloading rouge-1.0.1-py3-none-any.whl (13 kB)\n",
      "Requirement already satisfied: six in c:\\users\\user\\appdata\\local\\programs\\python\\python36\\lib\\site-packages (from rouge) (1.15.0)\n",
      "Installing collected packages: rouge\n",
      "Successfully installed rouge-1.0.1\n"
     ]
    }
   ],
   "source": [
    "!pip install rouge"
   ]
  },
  {
   "cell_type": "code",
   "execution_count": 63,
   "metadata": {},
   "outputs": [],
   "source": [
    "from rouge import Rouge"
   ]
  },
  {
   "cell_type": "code",
   "execution_count": 64,
   "metadata": {},
   "outputs": [],
   "source": [
    "rouge = Rouge()"
   ]
  },
  {
   "cell_type": "code",
   "execution_count": 65,
   "metadata": {},
   "outputs": [],
   "source": [
    "data['rouge_scores'] = rouge.get_scores(data['extracted_summary'], data['summary'])"
   ]
  },
  {
   "cell_type": "code",
   "execution_count": 66,
   "metadata": {},
   "outputs": [
    {
     "data": {
      "text/html": [
       "<div>\n",
       "<style scoped>\n",
       "    .dataframe tbody tr th:only-of-type {\n",
       "        vertical-align: middle;\n",
       "    }\n",
       "\n",
       "    .dataframe tbody tr th {\n",
       "        vertical-align: top;\n",
       "    }\n",
       "\n",
       "    .dataframe thead th {\n",
       "        text-align: right;\n",
       "    }\n",
       "</style>\n",
       "<table border=\"1\" class=\"dataframe\">\n",
       "  <thead>\n",
       "    <tr style=\"text-align: right;\">\n",
       "      <th></th>\n",
       "      <th>url</th>\n",
       "      <th>archive</th>\n",
       "      <th>title</th>\n",
       "      <th>date</th>\n",
       "      <th>text</th>\n",
       "      <th>summary</th>\n",
       "      <th>compression</th>\n",
       "      <th>coverage</th>\n",
       "      <th>density</th>\n",
       "      <th>compression_bin</th>\n",
       "      <th>...</th>\n",
       "      <th>density_bin</th>\n",
       "      <th>sentences</th>\n",
       "      <th>clean_sentences</th>\n",
       "      <th>sentence_vectors</th>\n",
       "      <th>sim_mat</th>\n",
       "      <th>nx_graph</th>\n",
       "      <th>scores</th>\n",
       "      <th>ranked_sentences</th>\n",
       "      <th>extracted_summary</th>\n",
       "      <th>rouge_scores</th>\n",
       "    </tr>\n",
       "  </thead>\n",
       "  <tbody>\n",
       "    <tr>\n",
       "      <th>0</th>\n",
       "      <td>http://www.foxsports.com/baseball/xchange/team...</td>\n",
       "      <td>http://web.archive.org/web/19980117162148id_/h...</td>\n",
       "      <td>Pro Sports Xchange notes</td>\n",
       "      <td>1970-08-20 06:01:57.162148</td>\n",
       "      <td>so sayeth padre general manager kevin towers.\\...</td>\n",
       "      <td>SAN DIEGO PADRES team notebook</td>\n",
       "      <td>209.000000</td>\n",
       "      <td>0.800000</td>\n",
       "      <td>1.200000</td>\n",
       "      <td>high</td>\n",
       "      <td>...</td>\n",
       "      <td>abstractive</td>\n",
       "      <td>[so sayeth padre general manager kevin towers....</td>\n",
       "      <td>[sayeth padre general manager kevin towers., l...</td>\n",
       "      <td>0     [-0.16768333058102172, 0.017415263457728...</td>\n",
       "      <td>[[0.0, 0.0, 0.0, 0.0, 0.0, 0.0, 0.0, 0.0, 0.0,...</td>\n",
       "      <td>(0, 1, 2, 3, 4, 5, 6, 7, 8, 9, 10, 11, 12, 13,...</td>\n",
       "      <td>{0: 0.0185185185185185, 1: 0.0185185185185185,...</td>\n",
       "      <td>[(0.0185185185185185, williams, who signed a m...</td>\n",
       "      <td>williams, who signed a minor league contract, ...</td>\n",
       "      <td>{'rouge-1': {'r': 0.0, 'p': 0.0, 'f': 0.0}, 'r...</td>\n",
       "    </tr>\n",
       "    <tr>\n",
       "      <th>1</th>\n",
       "      <td>http://www.nytimes.com/2006/06/05/technology/0...</td>\n",
       "      <td>http://web.archive.org/web/20060620021852id_/h...</td>\n",
       "      <td>India Becoming a Crucial Cog in the Machine at...</td>\n",
       "      <td>1970-08-21 04:23:40.021852</td>\n",
       "      <td>bangalore, india, june 4  the world's biggest...</td>\n",
       "      <td>India provides I.B.M. with its fastest-growing...</td>\n",
       "      <td>56.045455</td>\n",
       "      <td>0.954545</td>\n",
       "      <td>16.500000</td>\n",
       "      <td>high</td>\n",
       "      <td>...</td>\n",
       "      <td>extractive</td>\n",
       "      <td>[bangalore, india, june 4  the world's bigges...</td>\n",
       "      <td>[bangalore, india, june 4  world's biggest co...</td>\n",
       "      <td>0     [0.0015724692273276374, 0.04247997191411...</td>\n",
       "      <td>[[0.0, 0.0, 0.0, 0.0, 0.0, 0.0, 0.0, 0.0, 0.0,...</td>\n",
       "      <td>(0, 1, 2, 3, 4, 5, 6, 7, 8, 9, 10, 11, 12, 13,...</td>\n",
       "      <td>{0: 0.01639344262295083, 1: 0.0163934426229508...</td>\n",
       "      <td>[(0.01639344262295083, they are an acknowledgm...</td>\n",
       "      <td>they are an acknowledgment of india's critical...</td>\n",
       "      <td>{'rouge-1': {'r': 0.19047619047619047, 'p': 0....</td>\n",
       "    </tr>\n",
       "    <tr>\n",
       "      <th>2</th>\n",
       "      <td>http://www.nydailynews.com/archives/news/1995/...</td>\n",
       "      <td>http://web.archive.org/web/20110210093603id_/h...</td>\n",
       "      <td>NEW YORKERS' ONLY REGRET WAS STAYING HOME</td>\n",
       "      <td>1970-08-21 18:10:10.093603</td>\n",
       "      <td>this story was reported by: nick charles, aust...</td>\n",
       "      <td>As many black men marched on Washington yester...</td>\n",
       "      <td>6.152941</td>\n",
       "      <td>0.976471</td>\n",
       "      <td>24.600000</td>\n",
       "      <td>low</td>\n",
       "      <td>...</td>\n",
       "      <td>extractive</td>\n",
       "      <td>[this story was reported by: nick charles, aus...</td>\n",
       "      <td>[story reported by: nick charles, austin evans...</td>\n",
       "      <td>0     [0.028961850342933044, 0.069482825481536...</td>\n",
       "      <td>[[0.0, 0.0, 0.0, 0.0, 0.0, 0.0, 0.0, 0.0, 0.0,...</td>\n",
       "      <td>(0, 1, 2, 3, 4, 5, 6, 7, 8, 9, 10, 11, 12, 13,...</td>\n",
       "      <td>{0: 0.03846153846153845, 1: 0.0384615384615384...</td>\n",
       "      <td>[(0.03846153846153845, winston ford, 50, had t...</td>\n",
       "      <td>winston ford, 50, had to work, too.this story ...</td>\n",
       "      <td>{'rouge-1': {'r': 0.4, 'p': 0.3333333333333333...</td>\n",
       "    </tr>\n",
       "    <tr>\n",
       "      <th>3</th>\n",
       "      <td>http://mashable.com/2010/10/16/twitter-top-top...</td>\n",
       "      <td>http://web.archive.org/web/20120123100903id_/h...</td>\n",
       "      <td>Top 10 Twitter Trends This Week [CHART]</td>\n",
       "      <td>1970-08-21 20:55:23.100903</td>\n",
       "      <td>remember when everyone on earth was glued to t...</td>\n",
       "      <td>Check out the chart to find out what the world...</td>\n",
       "      <td>14.631579</td>\n",
       "      <td>0.842105</td>\n",
       "      <td>1.368421</td>\n",
       "      <td>low</td>\n",
       "      <td>...</td>\n",
       "      <td>abstractive</td>\n",
       "      <td>[remember when everyone on earth was glued to ...</td>\n",
       "      <td>[remember everyone earth glued twitter (and tv...</td>\n",
       "      <td>0     [-0.04966387454308343, 0.228652271354401...</td>\n",
       "      <td>[[0.0, 0.0, 0.0, 0.0, 0.0, 0.0, 0.0, 0.0, 0.0,...</td>\n",
       "      <td>(0, 1, 2, 3, 4, 5, 6, 7, 8, 9, 10, 11)</td>\n",
       "      <td>{0: 0.08333333333333333, 1: 0.0833333333333333...</td>\n",
       "      <td>[(0.08333333333333333, you can check past twit...</td>\n",
       "      <td>you can check past twitter trends in our top t...</td>\n",
       "      <td>{'rouge-1': {'r': 0.5, 'p': 0.1355932203389830...</td>\n",
       "    </tr>\n",
       "    <tr>\n",
       "      <th>4</th>\n",
       "      <td>http://www.reuters.com/article/2011/01/31/us-i...</td>\n",
       "      <td>http://web.archive.org/web/20120321005702id_/h...</td>\n",
       "      <td>Freed American hiker summoned back by Iran court</td>\n",
       "      <td>1970-08-21 20:58:41.005702</td>\n",
       "      <td>tehran | mon jan 31, 2011 9:17am est\\n\\ntehran...</td>\n",
       "      <td>TEHRAN (Reuters) - An American woman who was f...</td>\n",
       "      <td>7.902439</td>\n",
       "      <td>1.000000</td>\n",
       "      <td>39.048780</td>\n",
       "      <td>low</td>\n",
       "      <td>...</td>\n",
       "      <td>extractive</td>\n",
       "      <td>[tehran | mon jan 31, 2011 9:17am est\\n\\ntehra...</td>\n",
       "      <td>[tehran | mon jan 31, 2011 9:17am est tehran (...</td>\n",
       "      <td>0     [0.07381196580201665, -0.045377295994149...</td>\n",
       "      <td>[[0.0, 0.0, 0.0, 0.0, 0.0, 0.0, 0.0, 0.0, 0.0,...</td>\n",
       "      <td>(0, 1, 2, 3, 4, 5, 6, 7, 8, 9, 10, 11)</td>\n",
       "      <td>{0: 0.08333333333333333, 1: 0.0833333333333333...</td>\n",
       "      <td>[(0.08333333333333333, washington has headed a...</td>\n",
       "      <td>washington has headed a global campaign to tig...</td>\n",
       "      <td>{'rouge-1': {'r': 0.21621621621621623, 'p': 0....</td>\n",
       "    </tr>\n",
       "  </tbody>\n",
       "</table>\n",
       "<p>5 rows × 21 columns</p>\n",
       "</div>"
      ],
      "text/plain": [
       "                                                 url  \\\n",
       "0  http://www.foxsports.com/baseball/xchange/team...   \n",
       "1  http://www.nytimes.com/2006/06/05/technology/0...   \n",
       "2  http://www.nydailynews.com/archives/news/1995/...   \n",
       "3  http://mashable.com/2010/10/16/twitter-top-top...   \n",
       "4  http://www.reuters.com/article/2011/01/31/us-i...   \n",
       "\n",
       "                                             archive  \\\n",
       "0  http://web.archive.org/web/19980117162148id_/h...   \n",
       "1  http://web.archive.org/web/20060620021852id_/h...   \n",
       "2  http://web.archive.org/web/20110210093603id_/h...   \n",
       "3  http://web.archive.org/web/20120123100903id_/h...   \n",
       "4  http://web.archive.org/web/20120321005702id_/h...   \n",
       "\n",
       "                                               title  \\\n",
       "0                           Pro Sports Xchange notes   \n",
       "1  India Becoming a Crucial Cog in the Machine at...   \n",
       "2          NEW YORKERS' ONLY REGRET WAS STAYING HOME   \n",
       "3            Top 10 Twitter Trends This Week [CHART]   \n",
       "4   Freed American hiker summoned back by Iran court   \n",
       "\n",
       "                        date  \\\n",
       "0 1970-08-20 06:01:57.162148   \n",
       "1 1970-08-21 04:23:40.021852   \n",
       "2 1970-08-21 18:10:10.093603   \n",
       "3 1970-08-21 20:55:23.100903   \n",
       "4 1970-08-21 20:58:41.005702   \n",
       "\n",
       "                                                text  \\\n",
       "0  so sayeth padre general manager kevin towers.\\...   \n",
       "1  bangalore, india, june 4  the world's biggest...   \n",
       "2  this story was reported by: nick charles, aust...   \n",
       "3  remember when everyone on earth was glued to t...   \n",
       "4  tehran | mon jan 31, 2011 9:17am est\\n\\ntehran...   \n",
       "\n",
       "                                             summary  compression  coverage  \\\n",
       "0                     SAN DIEGO PADRES team notebook   209.000000  0.800000   \n",
       "1  India provides I.B.M. with its fastest-growing...    56.045455  0.954545   \n",
       "2  As many black men marched on Washington yester...     6.152941  0.976471   \n",
       "3  Check out the chart to find out what the world...    14.631579  0.842105   \n",
       "4  TEHRAN (Reuters) - An American woman who was f...     7.902439  1.000000   \n",
       "\n",
       "     density compression_bin  ...  density_bin  \\\n",
       "0   1.200000            high  ...  abstractive   \n",
       "1  16.500000            high  ...   extractive   \n",
       "2  24.600000             low  ...   extractive   \n",
       "3   1.368421             low  ...  abstractive   \n",
       "4  39.048780             low  ...   extractive   \n",
       "\n",
       "                                           sentences  \\\n",
       "0  [so sayeth padre general manager kevin towers....   \n",
       "1  [bangalore, india, june 4  the world's bigges...   \n",
       "2  [this story was reported by: nick charles, aus...   \n",
       "3  [remember when everyone on earth was glued to ...   \n",
       "4  [tehran | mon jan 31, 2011 9:17am est\\n\\ntehra...   \n",
       "\n",
       "                                     clean_sentences  \\\n",
       "0  [sayeth padre general manager kevin towers., l...   \n",
       "1  [bangalore, india, june 4  world's biggest co...   \n",
       "2  [story reported by: nick charles, austin evans...   \n",
       "3  [remember everyone earth glued twitter (and tv...   \n",
       "4  [tehran | mon jan 31, 2011 9:17am est tehran (...   \n",
       "\n",
       "                                    sentence_vectors  \\\n",
       "0  0     [-0.16768333058102172, 0.017415263457728...   \n",
       "1  0     [0.0015724692273276374, 0.04247997191411...   \n",
       "2  0     [0.028961850342933044, 0.069482825481536...   \n",
       "3  0     [-0.04966387454308343, 0.228652271354401...   \n",
       "4  0     [0.07381196580201665, -0.045377295994149...   \n",
       "\n",
       "                                             sim_mat  \\\n",
       "0  [[0.0, 0.0, 0.0, 0.0, 0.0, 0.0, 0.0, 0.0, 0.0,...   \n",
       "1  [[0.0, 0.0, 0.0, 0.0, 0.0, 0.0, 0.0, 0.0, 0.0,...   \n",
       "2  [[0.0, 0.0, 0.0, 0.0, 0.0, 0.0, 0.0, 0.0, 0.0,...   \n",
       "3  [[0.0, 0.0, 0.0, 0.0, 0.0, 0.0, 0.0, 0.0, 0.0,...   \n",
       "4  [[0.0, 0.0, 0.0, 0.0, 0.0, 0.0, 0.0, 0.0, 0.0,...   \n",
       "\n",
       "                                            nx_graph  \\\n",
       "0  (0, 1, 2, 3, 4, 5, 6, 7, 8, 9, 10, 11, 12, 13,...   \n",
       "1  (0, 1, 2, 3, 4, 5, 6, 7, 8, 9, 10, 11, 12, 13,...   \n",
       "2  (0, 1, 2, 3, 4, 5, 6, 7, 8, 9, 10, 11, 12, 13,...   \n",
       "3             (0, 1, 2, 3, 4, 5, 6, 7, 8, 9, 10, 11)   \n",
       "4             (0, 1, 2, 3, 4, 5, 6, 7, 8, 9, 10, 11)   \n",
       "\n",
       "                                              scores  \\\n",
       "0  {0: 0.0185185185185185, 1: 0.0185185185185185,...   \n",
       "1  {0: 0.01639344262295083, 1: 0.0163934426229508...   \n",
       "2  {0: 0.03846153846153845, 1: 0.0384615384615384...   \n",
       "3  {0: 0.08333333333333333, 1: 0.0833333333333333...   \n",
       "4  {0: 0.08333333333333333, 1: 0.0833333333333333...   \n",
       "\n",
       "                                    ranked_sentences  \\\n",
       "0  [(0.0185185185185185, williams, who signed a m...   \n",
       "1  [(0.01639344262295083, they are an acknowledgm...   \n",
       "2  [(0.03846153846153845, winston ford, 50, had t...   \n",
       "3  [(0.08333333333333333, you can check past twit...   \n",
       "4  [(0.08333333333333333, washington has headed a...   \n",
       "\n",
       "                                   extracted_summary  \\\n",
       "0  williams, who signed a minor league contract, ...   \n",
       "1  they are an acknowledgment of india's critical...   \n",
       "2  winston ford, 50, had to work, too.this story ...   \n",
       "3  you can check past twitter trends in our top t...   \n",
       "4  washington has headed a global campaign to tig...   \n",
       "\n",
       "                                        rouge_scores  \n",
       "0  {'rouge-1': {'r': 0.0, 'p': 0.0, 'f': 0.0}, 'r...  \n",
       "1  {'rouge-1': {'r': 0.19047619047619047, 'p': 0....  \n",
       "2  {'rouge-1': {'r': 0.4, 'p': 0.3333333333333333...  \n",
       "3  {'rouge-1': {'r': 0.5, 'p': 0.1355932203389830...  \n",
       "4  {'rouge-1': {'r': 0.21621621621621623, 'p': 0....  \n",
       "\n",
       "[5 rows x 21 columns]"
      ]
     },
     "execution_count": 66,
     "metadata": {},
     "output_type": "execute_result"
    }
   ],
   "source": [
    "data.head()"
   ]
  },
  {
   "cell_type": "code",
   "execution_count": 68,
   "metadata": {},
   "outputs": [
    {
     "data": {
      "text/plain": [
       "{'rouge-1': {'r': 0.4, 'p': 0.3333333333333333, 'f': 0.36363635867768596},\n",
       " 'rouge-2': {'r': 0.323943661971831,\n",
       "  'p': 0.26744186046511625,\n",
       "  'f': 0.29299362561888925},\n",
       " 'rouge-l': {'r': 0.4, 'p': 0.3333333333333333, 'f': 0.36363635867768596}}"
      ]
     },
     "execution_count": 68,
     "metadata": {},
     "output_type": "execute_result"
    }
   ],
   "source": [
    "data['rouge_scores'][2]"
   ]
  },
  {
   "cell_type": "code",
   "execution_count": 69,
   "metadata": {},
   "outputs": [
    {
     "data": {
      "text/plain": [
       "{'rouge-1': {'r': 0.2545530586333308,\n",
       "  'p': 0.12689454610346368,\n",
       "  'f': 0.14983521361679475},\n",
       " 'rouge-2': {'r': 0.07699962869073272,\n",
       "  'p': 0.04181965253743292,\n",
       "  'f': 0.04673277599745114},\n",
       " 'rouge-l': {'r': 0.22782679814159057,\n",
       "  'p': 0.11440445120374948,\n",
       "  'f': 0.1343028391099614}}"
      ]
     },
     "execution_count": 69,
     "metadata": {},
     "output_type": "execute_result"
    }
   ],
   "source": [
    "rouge.get_scores(data['extracted_summary'], data['summary'], avg = True)"
   ]
  },
  {
   "cell_type": "code",
   "execution_count": null,
   "metadata": {},
   "outputs": [],
   "source": []
  }
 ],
 "metadata": {
  "kernelspec": {
   "display_name": "Python 3",
   "language": "python",
   "name": "python3"
  },
  "language_info": {
   "codemirror_mode": {
    "name": "ipython",
    "version": 3
   },
   "file_extension": ".py",
   "mimetype": "text/x-python",
   "name": "python",
   "nbconvert_exporter": "python",
   "pygments_lexer": "ipython3",
   "version": "3.6.8"
  }
 },
 "nbformat": 4,
 "nbformat_minor": 2
}
