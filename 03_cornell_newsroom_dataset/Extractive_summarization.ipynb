{
 "cells": [
  {
   "cell_type": "code",
   "execution_count": 1,
   "metadata": {},
   "outputs": [
    {
     "name": "stderr",
     "output_type": "stream",
     "text": [
      "[nltk_data] Downloading package punkt to\n",
      "[nltk_data]     C:\\Users\\USER\\AppData\\Roaming\\nltk_data...\n",
      "[nltk_data]   Package punkt is already up-to-date!\n"
     ]
    }
   ],
   "source": [
    "import numpy as np\n",
    "import pandas as pd\n",
    "import nltk\n",
    "nltk.download('punkt')\n",
    "import re"
   ]
  },
  {
   "cell_type": "code",
   "execution_count": 2,
   "metadata": {},
   "outputs": [],
   "source": [
    "data = pd.read_json(\"data/dev.jsonl/dev-stats.jsonl\", lines=True)"
   ]
  },
  {
   "cell_type": "code",
   "execution_count": 3,
   "metadata": {
    "scrolled": true
   },
   "outputs": [
    {
     "data": {
      "text/html": [
       "<div>\n",
       "<style scoped>\n",
       "    .dataframe tbody tr th:only-of-type {\n",
       "        vertical-align: middle;\n",
       "    }\n",
       "\n",
       "    .dataframe tbody tr th {\n",
       "        vertical-align: top;\n",
       "    }\n",
       "\n",
       "    .dataframe thead th {\n",
       "        text-align: right;\n",
       "    }\n",
       "</style>\n",
       "<table border=\"1\" class=\"dataframe\">\n",
       "  <thead>\n",
       "    <tr style=\"text-align: right;\">\n",
       "      <th></th>\n",
       "      <th>url</th>\n",
       "      <th>archive</th>\n",
       "      <th>title</th>\n",
       "      <th>date</th>\n",
       "      <th>text</th>\n",
       "      <th>summary</th>\n",
       "      <th>compression</th>\n",
       "      <th>coverage</th>\n",
       "      <th>density</th>\n",
       "      <th>compression_bin</th>\n",
       "      <th>coverage_bin</th>\n",
       "      <th>density_bin</th>\n",
       "    </tr>\n",
       "  </thead>\n",
       "  <tbody>\n",
       "    <tr>\n",
       "      <th>0</th>\n",
       "      <td>http://www.foxsports.com/baseball/xchange/team...</td>\n",
       "      <td>http://web.archive.org/web/19980117162148id_/h...</td>\n",
       "      <td>Pro Sports Xchange notes</td>\n",
       "      <td>1970-08-20 06:01:57.162148</td>\n",
       "      <td>So sayeth Padre general manager Kevin Towers.\\...</td>\n",
       "      <td>SAN DIEGO PADRES team notebook</td>\n",
       "      <td>209.000000</td>\n",
       "      <td>0.800000</td>\n",
       "      <td>1.200000</td>\n",
       "      <td>high</td>\n",
       "      <td>medium</td>\n",
       "      <td>abstractive</td>\n",
       "    </tr>\n",
       "    <tr>\n",
       "      <th>1</th>\n",
       "      <td>http://www.nytimes.com/2006/06/05/technology/0...</td>\n",
       "      <td>http://web.archive.org/web/20060620021852id_/h...</td>\n",
       "      <td>India Becoming a Crucial Cog in the Machine at...</td>\n",
       "      <td>1970-08-21 04:23:40.021852</td>\n",
       "      <td>BANGALORE, India, June 4  The world's biggest...</td>\n",
       "      <td>India provides I.B.M. with its fastest-growing...</td>\n",
       "      <td>56.045455</td>\n",
       "      <td>0.954545</td>\n",
       "      <td>16.500000</td>\n",
       "      <td>high</td>\n",
       "      <td>high</td>\n",
       "      <td>extractive</td>\n",
       "    </tr>\n",
       "    <tr>\n",
       "      <th>2</th>\n",
       "      <td>http://www.nydailynews.com/archives/news/1995/...</td>\n",
       "      <td>http://web.archive.org/web/20110210093603id_/h...</td>\n",
       "      <td>NEW YORKERS' ONLY REGRET WAS STAYING HOME</td>\n",
       "      <td>1970-08-21 18:10:10.093603</td>\n",
       "      <td>This story was reported by: NICK CHARLES, AUST...</td>\n",
       "      <td>As many black men marched on Washington yester...</td>\n",
       "      <td>6.152941</td>\n",
       "      <td>0.976471</td>\n",
       "      <td>24.600000</td>\n",
       "      <td>low</td>\n",
       "      <td>high</td>\n",
       "      <td>extractive</td>\n",
       "    </tr>\n",
       "    <tr>\n",
       "      <th>3</th>\n",
       "      <td>http://mashable.com/2010/10/16/twitter-top-top...</td>\n",
       "      <td>http://web.archive.org/web/20120123100903id_/h...</td>\n",
       "      <td>Top 10 Twitter Trends This Week [CHART]</td>\n",
       "      <td>1970-08-21 20:55:23.100903</td>\n",
       "      <td>Remember when everyone on Earth was glued to T...</td>\n",
       "      <td>Check out the chart to find out what the world...</td>\n",
       "      <td>14.631579</td>\n",
       "      <td>0.842105</td>\n",
       "      <td>1.368421</td>\n",
       "      <td>low</td>\n",
       "      <td>medium</td>\n",
       "      <td>abstractive</td>\n",
       "    </tr>\n",
       "    <tr>\n",
       "      <th>4</th>\n",
       "      <td>http://www.reuters.com/article/2011/01/31/us-i...</td>\n",
       "      <td>http://web.archive.org/web/20120321005702id_/h...</td>\n",
       "      <td>Freed American hiker summoned back by Iran court</td>\n",
       "      <td>1970-08-21 20:58:41.005702</td>\n",
       "      <td>TEHRAN | Mon Jan 31, 2011 9:17am EST\\n\\nTEHRAN...</td>\n",
       "      <td>TEHRAN (Reuters) - An American woman who was f...</td>\n",
       "      <td>7.902439</td>\n",
       "      <td>1.000000</td>\n",
       "      <td>39.048780</td>\n",
       "      <td>low</td>\n",
       "      <td>high</td>\n",
       "      <td>extractive</td>\n",
       "    </tr>\n",
       "  </tbody>\n",
       "</table>\n",
       "</div>"
      ],
      "text/plain": [
       "                                                 url  \\\n",
       "0  http://www.foxsports.com/baseball/xchange/team...   \n",
       "1  http://www.nytimes.com/2006/06/05/technology/0...   \n",
       "2  http://www.nydailynews.com/archives/news/1995/...   \n",
       "3  http://mashable.com/2010/10/16/twitter-top-top...   \n",
       "4  http://www.reuters.com/article/2011/01/31/us-i...   \n",
       "\n",
       "                                             archive  \\\n",
       "0  http://web.archive.org/web/19980117162148id_/h...   \n",
       "1  http://web.archive.org/web/20060620021852id_/h...   \n",
       "2  http://web.archive.org/web/20110210093603id_/h...   \n",
       "3  http://web.archive.org/web/20120123100903id_/h...   \n",
       "4  http://web.archive.org/web/20120321005702id_/h...   \n",
       "\n",
       "                                               title  \\\n",
       "0                           Pro Sports Xchange notes   \n",
       "1  India Becoming a Crucial Cog in the Machine at...   \n",
       "2          NEW YORKERS' ONLY REGRET WAS STAYING HOME   \n",
       "3            Top 10 Twitter Trends This Week [CHART]   \n",
       "4   Freed American hiker summoned back by Iran court   \n",
       "\n",
       "                        date  \\\n",
       "0 1970-08-20 06:01:57.162148   \n",
       "1 1970-08-21 04:23:40.021852   \n",
       "2 1970-08-21 18:10:10.093603   \n",
       "3 1970-08-21 20:55:23.100903   \n",
       "4 1970-08-21 20:58:41.005702   \n",
       "\n",
       "                                                text  \\\n",
       "0  So sayeth Padre general manager Kevin Towers.\\...   \n",
       "1  BANGALORE, India, June 4  The world's biggest...   \n",
       "2  This story was reported by: NICK CHARLES, AUST...   \n",
       "3  Remember when everyone on Earth was glued to T...   \n",
       "4  TEHRAN | Mon Jan 31, 2011 9:17am EST\\n\\nTEHRAN...   \n",
       "\n",
       "                                             summary  compression  coverage  \\\n",
       "0                     SAN DIEGO PADRES team notebook   209.000000  0.800000   \n",
       "1  India provides I.B.M. with its fastest-growing...    56.045455  0.954545   \n",
       "2  As many black men marched on Washington yester...     6.152941  0.976471   \n",
       "3  Check out the chart to find out what the world...    14.631579  0.842105   \n",
       "4  TEHRAN (Reuters) - An American woman who was f...     7.902439  1.000000   \n",
       "\n",
       "     density compression_bin coverage_bin  density_bin  \n",
       "0   1.200000            high       medium  abstractive  \n",
       "1  16.500000            high         high   extractive  \n",
       "2  24.600000             low         high   extractive  \n",
       "3   1.368421             low       medium  abstractive  \n",
       "4  39.048780             low         high   extractive  "
      ]
     },
     "execution_count": 3,
     "metadata": {},
     "output_type": "execute_result"
    }
   ],
   "source": [
    "data.head()"
   ]
  },
  {
   "cell_type": "code",
   "execution_count": 4,
   "metadata": {},
   "outputs": [
    {
     "data": {
      "text/plain": [
       "(108837, 12)"
      ]
     },
     "execution_count": 4,
     "metadata": {},
     "output_type": "execute_result"
    }
   ],
   "source": [
    "data.shape"
   ]
  },
  {
   "cell_type": "code",
   "execution_count": 5,
   "metadata": {},
   "outputs": [
    {
     "data": {
      "text/plain": [
       "'So sayeth Padre general manager Kevin Towers.\\n\\nLess than two weeks after unofficially setting his starting rotation by trading for No. 1 Kevin Brown and re-signing No. 5 Pete Smith, Towers stirred the pot Jan. 7 by signing Mark Langston to a minor league contract.\\n\\nBut the Padres have no intention of having Langston pitch at Triple-A Las Vegas. And neither does the 37-year-old left-hander.\\n\\n\"We didn\\'t get him to pitch at Las Vegas,\" said GM Kevin Towers emphatically. \"If Mark is back to full health, he\\'s going to go for one of the spots in the starting rotation.\"\\n\\nThere\\'s the rub. Langston had elbow and knee problems last year and made only one start (Aug. 20) after undergoing arthroscopic surgery in May to have bone spurs removed from his left elbow.\\n\\nIt was his second round of elbow surgery in four seasons.\\n\\nHowever, the Padres hit the jackpot once before with a over-the-hill left-hander. Fernando Valenzuela was 13-8 with a 3.62 ERA in \\'96 and helped pitch the Padres to the N.L. West title.\\n\\nLangston thinks it will. And Towers said it\\'s not that big a gamble.\\n\\n\"Right now, we\\'re very happy with the rotation we have,\" said Towers of the Brown, Andy Ashby, Joey Hamilton, Sterling Hitchcock and Smith quintet.\\n\\n\"But you never know about pitching. Something can happen and usually does. I like insurance.\"\\n\\nLangston has a career 174-150 record with a 3.88 ERA. He is a four-time All-Star and was Anaheim\\'s opening day starter last April.\\n\\nAnd a year after his 1994 surgery, Langston bounced back with a 15-7 record with a 4.63 ERA.\\n\\nLangston said his arm is sound and said he shouldn\\'t have tried to return last year.\\n\\n\"I simply tried to come back too soon last year,\" he said. \"The Angels were in a pennant race and short on starting pitchers. So I tried to help out and it was a mistake. I was advised by the doctors not to do it.\\n\\n\"But the arm feels good. I\\'ve been playing long toss for a month with no problems. I see myself winning one of those starting spots in San Diego. And I believe we have the makings of being a contender. If I\\'m healthy, I will enhance this team.\"\\n\\nThe Angels did not offer Langston a contract after last season (2-4, 5.65 ERA). Langston said he had better offers elsewhere, but chose to remain as close as possible to his Anaheim Hills home in Southern California.\\n\\n\"I see no downside to signing Mark,\" said Padre manager Bruce Bochy. \"It\\'s definitely worth taking a look for us. He certainly knows how to pitch.\"\\n\\nTowers said the addition of Brown and Langston might also help Ashby and Hamilton mature into better pitchers.\\n\\n\"We\\'ve now got three guys here (Brown, Langston and pitching coach Dave Stewart) who have pitched at the highest levels of competition. I think it will do a world of good for our other pitchers to watch how these guys go about their business.\"\\n\\nLangston has played only one season in the N.L., going 12-9 with a 2.38 in Montreal over two-thirds of the \\'89 season.\\n\\nNOTES, QUOTES, ANECDOTES The Padres signed 2B/leadoff man Quilvio Veras to a two-year contract worth $3.1 million. Veras, who turns 27 April 3, will make $1.1 million this season and $2 in 1998. The switch-hitter struggled early last year while sharing the leadoff job with Rickey Henderson, but batted .293 over the last 100 games. But he needs to reduce his 84 strikeouts, draw more than 72 walks and hit better than .194 from the right side.\\n\\nIt\\'s official. Native San Diegan 1B Eddie Williams is back for a third fling as a Padre, although Williams will be playing in Las Vegas as an insurance policy against Wally Joyner being hurt. Williams, who signed a minor league contract, hit .240 with three homers and 12 RBI in 38 games with the Dodgers and Pirates last season.\\n\\nPut Greg Vaughn ahead of Ruben Rivera in the Padre left field derby. Rivera has been hovering around .200 in the Dominican Republic Winter League after missing much of the campaign with a broken finger. Over the last year, Rivera has had less than 100 at bats. \"I don\\'t care what he hits, but Ruben needed more swings,\" said Towers.\\n\\nROSTER REPORT FREE AGENCY UPDATE -- Signed catcher Greg Myers (Braves), catcher Carlos Hernandez (re-signed), signed infielder Craig Shipley (allowed to become free-agent), right-handed pitcher Pete Smith (re-signed), left-handed pitcher Mark Langston (Angels, signed to minor-league contract).\\n\\nMEDICAL WATCH -- Left fielder Greg Vaughn (recovering from right knee surgery), third baseman Ken Caminiti (recovering from right knee surgery), first baseman Wally Joyner (recovering from right knee surgery), center fielder Steve Finley (recovering from big toe surgery), right fielder Tony Gwynn (recovering from left knee surgery), outfielder Ruben Rivera (recovering from a broken left finger).'"
      ]
     },
     "execution_count": 5,
     "metadata": {},
     "output_type": "execute_result"
    }
   ],
   "source": [
    "data['text'][0]"
   ]
  },
  {
   "cell_type": "code",
   "execution_count": 6,
   "metadata": {},
   "outputs": [],
   "source": [
    "from nltk.tokenize import sent_tokenize\n",
    "def split_sentences(text):\n",
    "    sentences = []\n",
    "    for s in text:\n",
    "        sentences.append(sent_tokenize(s))\n",
    "    sentences = [y for x in sentences for y in x]\n",
    "    sentences = pd.Series(sentences)\n",
    "    return sentences"
   ]
  },
  {
   "cell_type": "code",
   "execution_count": 7,
   "metadata": {},
   "outputs": [],
   "source": [
    "data = data.dropna()"
   ]
  },
  {
   "cell_type": "code",
   "execution_count": 8,
   "metadata": {},
   "outputs": [],
   "source": [
    "data['sentences'] = split_sentences(data['text'])"
   ]
  },
  {
   "cell_type": "code",
   "execution_count": 9,
   "metadata": {},
   "outputs": [],
   "source": [
    "#!wget http://nlp.stanford.edu/data/glove.6B.zip"
   ]
  },
  {
   "cell_type": "code",
   "execution_count": 10,
   "metadata": {},
   "outputs": [],
   "source": [
    "#!unzip glove*.zip"
   ]
  },
  {
   "cell_type": "code",
   "execution_count": 11,
   "metadata": {},
   "outputs": [],
   "source": [
    "# Extract word vectors\n",
    "word_embeddings = {}\n",
    "f = open('glove.6B/glove.6B.100d.txt', encoding='utf-8')\n",
    "for line in f:\n",
    "    values = line.split()\n",
    "    word = values[0]\n",
    "    coefs = np.asarray(values[1:], dtype='float32')\n",
    "    word_embeddings[word] = coefs\n",
    "f.close()"
   ]
  },
  {
   "cell_type": "code",
   "execution_count": 12,
   "metadata": {},
   "outputs": [
    {
     "data": {
      "text/plain": [
       "400000"
      ]
     },
     "execution_count": 12,
     "metadata": {},
     "output_type": "execute_result"
    }
   ],
   "source": [
    "len(word_embeddings)"
   ]
  },
  {
   "cell_type": "code",
   "execution_count": 13,
   "metadata": {},
   "outputs": [],
   "source": [
    "data['clean_sentences'] = data['sentences'].str.replace(\"[^a-zA-z]\", \" \")\n",
    "data['clean_sentences'] = data['clean_sentences'].str.lower()"
   ]
  },
  {
   "cell_type": "code",
   "execution_count": 14,
   "metadata": {},
   "outputs": [
    {
     "name": "stderr",
     "output_type": "stream",
     "text": [
      "[nltk_data] Downloading package stopwords to\n",
      "[nltk_data]     C:\\Users\\USER\\AppData\\Roaming\\nltk_data...\n",
      "[nltk_data]   Package stopwords is already up-to-date!\n"
     ]
    },
    {
     "data": {
      "text/plain": [
       "True"
      ]
     },
     "execution_count": 14,
     "metadata": {},
     "output_type": "execute_result"
    }
   ],
   "source": [
    "nltk.download('stopwords')"
   ]
  },
  {
   "cell_type": "code",
   "execution_count": 15,
   "metadata": {},
   "outputs": [],
   "source": [
    "from nltk.corpus import stopwords\n",
    "stop_words = stopwords.words('english')"
   ]
  },
  {
   "cell_type": "code",
   "execution_count": 16,
   "metadata": {},
   "outputs": [],
   "source": [
    "def remove_stopwords(sen):\n",
    "    sen_new = \" \".join([i for i in sen if i not in stop_words])\n",
    "    return sen_new"
   ]
  },
  {
   "cell_type": "code",
   "execution_count": 17,
   "metadata": {},
   "outputs": [],
   "source": [
    "data['clean_sentences'] = remove_stopwords(data['clean_sentences'])"
   ]
  },
  {
   "cell_type": "code",
   "execution_count": 18,
   "metadata": {},
   "outputs": [],
   "source": [
    "def sentence_vectors(text):\n",
    "    sentence_vectors = []\n",
    "    for i in text:\n",
    "        if(len(i) != 0):\n",
    "            v = sum([word_embeddings.get(w, np.zeros((100,))) for w in i.split()])/(len(i.split())+0.001)\n",
    "        else:\n",
    "            v = np.zeros((100,))\n",
    "        sentence_vectors.append(v)\n",
    "    sentence_vectors = pd.Series(sentence_vectors)\n",
    "    return sentence_vectors"
   ]
  },
  {
   "cell_type": "code",
   "execution_count": null,
   "metadata": {},
   "outputs": [],
   "source": [
    "data['sentence_vectors'] = sentence_vectors(data['clean_sentences'])"
   ]
  },
  {
   "cell_type": "code",
   "execution_count": null,
   "metadata": {},
   "outputs": [],
   "source": [
    "data.head()"
   ]
  },
  {
   "cell_type": "code",
   "execution_count": null,
   "metadata": {},
   "outputs": [],
   "source": [
    "from sklearn.metrics.pairwise import cosine_similarity"
   ]
  },
  {
   "cell_type": "code",
   "execution_count": null,
   "metadata": {},
   "outputs": [],
   "source": [
    "def cosine_similarity(sentences, sentence_vectors):\n",
    "    sim_mat = np.zeros([len(sentences), len(sentences)])\n",
    "    for i in range(len(sentences)):\n",
    "        for j in range(len(sentences)):\n",
    "            if i != j:\n",
    "                sim_mat[i][j] = cosine_similarity(sentence_vectors[i].reshape(1,100), sentence_vectors[j].reshape(1,100))[0,0]\n",
    "    return sim_mat"
   ]
  },
  {
   "cell_type": "code",
   "execution_count": null,
   "metadata": {},
   "outputs": [],
   "source": [
    "data['similarity_matrix'] = cosine_similarity(data['sentences'], data['sentence_vectors'])"
   ]
  },
  {
   "cell_type": "code",
   "execution_count": null,
   "metadata": {},
   "outputs": [],
   "source": [
    "import networkx as nx\n",
    "\n",
    "data['nx_graph'] = nx.from_numpy_array(data['similarity_mtrix'])"
   ]
  },
  {
   "cell_type": "code",
   "execution_count": null,
   "metadata": {},
   "outputs": [],
   "source": [
    "data['scores'] = nx.pagerank(data['nx_graph'])"
   ]
  },
  {
   "cell_type": "code",
   "execution_count": null,
   "metadata": {},
   "outputs": [],
   "source": [
    "data.head()"
   ]
  },
  {
   "cell_type": "code",
   "execution_count": null,
   "metadata": {},
   "outputs": [],
   "source": []
  }
 ],
 "metadata": {
  "kernelspec": {
   "display_name": "Python 3",
   "language": "python",
   "name": "python3"
  },
  "language_info": {
   "codemirror_mode": {
    "name": "ipython",
    "version": 3
   },
   "file_extension": ".py",
   "mimetype": "text/x-python",
   "name": "python",
   "nbconvert_exporter": "python",
   "pygments_lexer": "ipython3",
   "version": "3.6.8"
  }
 },
 "nbformat": 4,
 "nbformat_minor": 2
}
